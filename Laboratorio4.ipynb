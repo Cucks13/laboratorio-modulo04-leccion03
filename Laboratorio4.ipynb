{
 "cells": [
  {
   "cell_type": "code",
   "execution_count": 1,
   "metadata": {},
   "outputs": [],
   "source": [
    "# importamos las librerías con las que vamos a trabajar\n",
    "\n",
    "# Trabajar con bases de datos y python\n",
    "# -----------------------------------------------------------------------\n",
    "import psycopg2\n",
    "from psycopg2 import OperationalError, errorcodes, errors\n",
    "\n",
    "\n",
    "# Trabajar con DataFrames\n",
    "# -----------------------------------------------------------------------\n",
    "import pandas as pd\n",
    "import matplotlib.pyplot as plt"
   ]
  },
  {
   "cell_type": "code",
   "execution_count": 2,
   "metadata": {},
   "outputs": [
    {
     "data": {
      "text/plain": [
       "array(['LikelyOpen', 'VeryLikelyOpen', 'Unsure'], dtype=object)"
      ]
     },
     "execution_count": 2,
     "metadata": {},
     "output_type": "execute_result"
    }
   ],
   "source": [
    "df_foursquare=pd.read_csv('data/api_foursquare.csv')\n",
    "df_foursquare=df_foursquare.drop(columns=['Unnamed: 0'])\n",
    "df_foursquare['closed_bucket'].unique()"
   ]
  },
  {
   "cell_type": "code",
   "execution_count": 3,
   "metadata": {},
   "outputs": [],
   "source": [
    "lista_lugares=[]\n",
    "for fila in df_foursquare.values:\n",
    "    lista_lugares.append(tuple(fila))"
   ]
  },
  {
   "cell_type": "code",
   "execution_count": 4,
   "metadata": {},
   "outputs": [
    {
     "data": {
      "text/html": [
       "<div>\n",
       "<style scoped>\n",
       "    .dataframe tbody tr th:only-of-type {\n",
       "        vertical-align: middle;\n",
       "    }\n",
       "\n",
       "    .dataframe tbody tr th {\n",
       "        vertical-align: top;\n",
       "    }\n",
       "\n",
       "    .dataframe thead th {\n",
       "        text-align: right;\n",
       "    }\n",
       "</style>\n",
       "<table border=\"1\" class=\"dataframe\">\n",
       "  <thead>\n",
       "    <tr style=\"text-align: right;\">\n",
       "      <th></th>\n",
       "      <th>fecha</th>\n",
       "      <th>cielo</th>\n",
       "      <th>temp._(°c)</th>\n",
       "      <th>sen._térmica_(°c)</th>\n",
       "      <th>racha_máx._(km/h)</th>\n",
       "      <th>precipitación_(mm)</th>\n",
       "      <th>nieve_(mm)</th>\n",
       "      <th>humedad_relativa_(%)</th>\n",
       "      <th>prob._precip.__(%)</th>\n",
       "      <th>prob._de_nieve_(%)</th>\n",
       "      <th>prob._de_tormenta_(%)</th>\n",
       "      <th>avisos</th>\n",
       "      <th>dirección_viento</th>\n",
       "      <th>velocidad_del_viento</th>\n",
       "      <th>localizacion_id</th>\n",
       "    </tr>\n",
       "  </thead>\n",
       "  <tbody>\n",
       "    <tr>\n",
       "      <th>0</th>\n",
       "      <td>2024-08-29 12:00:00</td>\n",
       "      <td>Nubes altas</td>\n",
       "      <td>21</td>\n",
       "      <td>21</td>\n",
       "      <td>25.0</td>\n",
       "      <td>0.0</td>\n",
       "      <td>0</td>\n",
       "      <td>69</td>\n",
       "      <td>95</td>\n",
       "      <td>0</td>\n",
       "      <td>75</td>\n",
       "      <td>Riesgo</td>\n",
       "      <td>S</td>\n",
       "      <td>7</td>\n",
       "      <td>acebeda-la-id28001</td>\n",
       "    </tr>\n",
       "  </tbody>\n",
       "</table>\n",
       "</div>"
      ],
      "text/plain": [
       "                 fecha        cielo  temp._(°c)  sen._térmica_(°c)  \\\n",
       "0  2024-08-29 12:00:00  Nubes altas          21                 21   \n",
       "\n",
       "   racha_máx._(km/h)  precipitación_(mm)  nieve_(mm)  humedad_relativa_(%)  \\\n",
       "0               25.0                 0.0           0                    69   \n",
       "\n",
       "  prob._precip.__(%)  prob._de_nieve_(%)  prob._de_tormenta_(%)  avisos  \\\n",
       "0                 95                   0                     75  Riesgo   \n",
       "\n",
       "  dirección_viento  velocidad_del_viento     localizacion_id  \n",
       "0                S                     7  acebeda-la-id28001  "
      ]
     },
     "execution_count": 4,
     "metadata": {},
     "output_type": "execute_result"
    }
   ],
   "source": [
    "df_aemet=pd.read_csv('data/df_aemet_final.csv')\n",
    "df_aemet.head(1)"
   ]
  },
  {
   "cell_type": "code",
   "execution_count": 5,
   "metadata": {},
   "outputs": [
    {
     "data": {
      "text/html": [
       "<div>\n",
       "<style scoped>\n",
       "    .dataframe tbody tr th:only-of-type {\n",
       "        vertical-align: middle;\n",
       "    }\n",
       "\n",
       "    .dataframe tbody tr th {\n",
       "        vertical-align: top;\n",
       "    }\n",
       "\n",
       "    .dataframe thead th {\n",
       "        text-align: right;\n",
       "    }\n",
       "</style>\n",
       "<table border=\"1\" class=\"dataframe\">\n",
       "  <thead>\n",
       "    <tr style=\"text-align: right;\">\n",
       "      <th></th>\n",
       "      <th>fecha</th>\n",
       "      <th>cielo</th>\n",
       "      <th>temp._(°c)</th>\n",
       "      <th>sen._térmica_(°c)</th>\n",
       "      <th>racha_máx._(km/h)</th>\n",
       "      <th>precipitación_(mm)</th>\n",
       "      <th>nieve_(mm)</th>\n",
       "      <th>humedad_relativa_(%)</th>\n",
       "      <th>prob._precip.__(%)</th>\n",
       "      <th>prob._de_nieve_(%)</th>\n",
       "      <th>prob._de_tormenta_(%)</th>\n",
       "      <th>avisos</th>\n",
       "      <th>dirección_viento</th>\n",
       "      <th>velocidad_del_viento</th>\n",
       "      <th>localizacion_id</th>\n",
       "    </tr>\n",
       "  </thead>\n",
       "  <tbody>\n",
       "    <tr>\n",
       "      <th>0</th>\n",
       "      <td>2024-08-29 12:00:00</td>\n",
       "      <td>Nubes altas</td>\n",
       "      <td>21</td>\n",
       "      <td>21</td>\n",
       "      <td>25.0</td>\n",
       "      <td>0.0</td>\n",
       "      <td>0</td>\n",
       "      <td>69</td>\n",
       "      <td>95</td>\n",
       "      <td>0</td>\n",
       "      <td>75</td>\n",
       "      <td>Riesgo</td>\n",
       "      <td>S</td>\n",
       "      <td>7</td>\n",
       "      <td>acebeda-la</td>\n",
       "    </tr>\n",
       "  </tbody>\n",
       "</table>\n",
       "</div>"
      ],
      "text/plain": [
       "                 fecha        cielo  temp._(°c)  sen._térmica_(°c)  \\\n",
       "0  2024-08-29 12:00:00  Nubes altas          21                 21   \n",
       "\n",
       "   racha_máx._(km/h)  precipitación_(mm)  nieve_(mm)  humedad_relativa_(%)  \\\n",
       "0               25.0                 0.0           0                    69   \n",
       "\n",
       "  prob._precip.__(%)  prob._de_nieve_(%)  prob._de_tormenta_(%)  avisos  \\\n",
       "0                 95                   0                     75  Riesgo   \n",
       "\n",
       "  dirección_viento  velocidad_del_viento localizacion_id  \n",
       "0                S                     7      acebeda-la  "
      ]
     },
     "execution_count": 5,
     "metadata": {},
     "output_type": "execute_result"
    }
   ],
   "source": [
    "df_aemet['localizacion_id'] = df_aemet['localizacion_id'].str.replace(r'-id\\d+', '', regex=True)\n",
    "df_aemet.head(1)"
   ]
  },
  {
   "cell_type": "code",
   "execution_count": 6,
   "metadata": {},
   "outputs": [],
   "source": [
    "df_aemet['fecha']=pd.to_datetime(df_aemet['fecha'])"
   ]
  },
  {
   "cell_type": "code",
   "execution_count": 7,
   "metadata": {},
   "outputs": [
    {
     "data": {
      "text/html": [
       "<div>\n",
       "<style scoped>\n",
       "    .dataframe tbody tr th:only-of-type {\n",
       "        vertical-align: middle;\n",
       "    }\n",
       "\n",
       "    .dataframe tbody tr th {\n",
       "        vertical-align: top;\n",
       "    }\n",
       "\n",
       "    .dataframe thead th {\n",
       "        text-align: right;\n",
       "    }\n",
       "</style>\n",
       "<table border=\"1\" class=\"dataframe\">\n",
       "  <thead>\n",
       "    <tr style=\"text-align: right;\">\n",
       "      <th></th>\n",
       "      <th>Unnamed: 0</th>\n",
       "      <th>acebeda-la</th>\n",
       "      <th>ajalvir</th>\n",
       "      <th>alameda-del-valle</th>\n",
       "      <th>alamo-el</th>\n",
       "      <th>alcala-de-henares</th>\n",
       "      <th>alcobendas</th>\n",
       "      <th>alcorcon</th>\n",
       "      <th>aldea-del-fresno</th>\n",
       "      <th>algete</th>\n",
       "      <th>...</th>\n",
       "      <th>villamanta</th>\n",
       "      <th>villamantilla</th>\n",
       "      <th>villanueva-de-la-canada</th>\n",
       "      <th>villanueva-del-pardillo</th>\n",
       "      <th>villanueva-de-perales</th>\n",
       "      <th>villar-del-olmo</th>\n",
       "      <th>villarejo-de-salvanes</th>\n",
       "      <th>villaviciosa-de-odon</th>\n",
       "      <th>villavieja-del-lozoya</th>\n",
       "      <th>zarzalejo</th>\n",
       "    </tr>\n",
       "  </thead>\n",
       "  <tbody>\n",
       "    <tr>\n",
       "      <th>0</th>\n",
       "      <td>0</td>\n",
       "      <td>41.0869583</td>\n",
       "      <td>40.5342302</td>\n",
       "      <td>40.9177178</td>\n",
       "      <td>40.2307296</td>\n",
       "      <td>40.4818396</td>\n",
       "      <td>40.5400082</td>\n",
       "      <td>40.3492998</td>\n",
       "      <td>40.3215212</td>\n",
       "      <td>40.5961652</td>\n",
       "      <td>...</td>\n",
       "      <td>40.2990939</td>\n",
       "      <td>40.3421033</td>\n",
       "      <td>40.4472106</td>\n",
       "      <td>40.4949232</td>\n",
       "      <td>40.3466066</td>\n",
       "      <td>40.3364465</td>\n",
       "      <td>40.1683582</td>\n",
       "      <td>40.3573787</td>\n",
       "      <td>41.0063622</td>\n",
       "      <td>40.5483016</td>\n",
       "    </tr>\n",
       "  </tbody>\n",
       "</table>\n",
       "<p>1 rows × 177 columns</p>\n",
       "</div>"
      ],
      "text/plain": [
       "   Unnamed: 0  acebeda-la     ajalvir alameda-del-valle    alamo-el  \\\n",
       "0           0  41.0869583  40.5342302        40.9177178  40.2307296   \n",
       "\n",
       "  alcala-de-henares  alcobendas    alcorcon aldea-del-fresno      algete  ...  \\\n",
       "0        40.4818396  40.5400082  40.3492998       40.3215212  40.5961652  ...   \n",
       "\n",
       "   villamanta villamantilla villanueva-de-la-canada villanueva-del-pardillo  \\\n",
       "0  40.2990939    40.3421033              40.4472106              40.4949232   \n",
       "\n",
       "  villanueva-de-perales villar-del-olmo villarejo-de-salvanes  \\\n",
       "0            40.3466066      40.3364465            40.1683582   \n",
       "\n",
       "  villaviciosa-de-odon villavieja-del-lozoya   zarzalejo  \n",
       "0           40.3573787            41.0063622  40.5483016  \n",
       "\n",
       "[1 rows x 177 columns]"
      ]
     },
     "execution_count": 7,
     "metadata": {},
     "output_type": "execute_result"
    }
   ],
   "source": [
    "df_municipios=pd.read_csv('data/municipios.csv')\n",
    "df_municipios.head(1)"
   ]
  },
  {
   "cell_type": "code",
   "execution_count": 8,
   "metadata": {},
   "outputs": [
    {
     "data": {
      "text/html": [
       "<div>\n",
       "<style scoped>\n",
       "    .dataframe tbody tr th:only-of-type {\n",
       "        vertical-align: middle;\n",
       "    }\n",
       "\n",
       "    .dataframe tbody tr th {\n",
       "        vertical-align: top;\n",
       "    }\n",
       "\n",
       "    .dataframe thead th {\n",
       "        text-align: right;\n",
       "    }\n",
       "</style>\n",
       "<table border=\"1\" class=\"dataframe\">\n",
       "  <thead>\n",
       "    <tr style=\"text-align: right;\">\n",
       "      <th></th>\n",
       "      <th>index</th>\n",
       "      <th>0</th>\n",
       "      <th>1</th>\n",
       "      <th>2</th>\n",
       "    </tr>\n",
       "  </thead>\n",
       "  <tbody>\n",
       "    <tr>\n",
       "      <th>1</th>\n",
       "      <td>acebeda-la</td>\n",
       "      <td>41.0869583</td>\n",
       "      <td>-3.624399</td>\n",
       "      <td>La Acebeda</td>\n",
       "    </tr>\n",
       "  </tbody>\n",
       "</table>\n",
       "</div>"
      ],
      "text/plain": [
       "        index           0          1           2\n",
       "1  acebeda-la  41.0869583  -3.624399  La Acebeda"
      ]
     },
     "execution_count": 8,
     "metadata": {},
     "output_type": "execute_result"
    }
   ],
   "source": [
    "df_municipios=df_municipios.T\n",
    "df_municipios=df_municipios.reset_index()\n",
    "df_municipios=df_municipios[1:]\n",
    "df_municipios.head(1)"
   ]
  },
  {
   "cell_type": "code",
   "execution_count": 9,
   "metadata": {},
   "outputs": [],
   "source": [
    "df_aemet = df_aemet[df_aemet['localizacion_id'].isin(set(df_municipios['index'].unique()))]"
   ]
  },
  {
   "cell_type": "code",
   "execution_count": 10,
   "metadata": {},
   "outputs": [],
   "source": [
    "df_municipios.rename(columns={0: 'latitud'}, inplace=True)\n",
    "df_municipios.rename(columns={1: 'longitud'}, inplace=True)"
   ]
  },
  {
   "cell_type": "code",
   "execution_count": 11,
   "metadata": {},
   "outputs": [],
   "source": [
    "lista_datosmeteo=[]\n",
    "for fila in df_aemet.values:\n",
    "    lista_datosmeteo.append(tuple(fila))\n"
   ]
  },
  {
   "cell_type": "code",
   "execution_count": 12,
   "metadata": {},
   "outputs": [
    {
     "data": {
      "text/html": [
       "<div>\n",
       "<style scoped>\n",
       "    .dataframe tbody tr th:only-of-type {\n",
       "        vertical-align: middle;\n",
       "    }\n",
       "\n",
       "    .dataframe tbody tr th {\n",
       "        vertical-align: top;\n",
       "    }\n",
       "\n",
       "    .dataframe thead th {\n",
       "        text-align: right;\n",
       "    }\n",
       "</style>\n",
       "<table border=\"1\" class=\"dataframe\">\n",
       "  <thead>\n",
       "    <tr style=\"text-align: right;\">\n",
       "      <th></th>\n",
       "      <th>index</th>\n",
       "      <th>latitud</th>\n",
       "      <th>longitud</th>\n",
       "      <th>2</th>\n",
       "    </tr>\n",
       "  </thead>\n",
       "  <tbody>\n",
       "    <tr>\n",
       "      <th>1</th>\n",
       "      <td>acebeda-la</td>\n",
       "      <td>41.086958</td>\n",
       "      <td>-3.624399</td>\n",
       "      <td>La Acebeda</td>\n",
       "    </tr>\n",
       "  </tbody>\n",
       "</table>\n",
       "</div>"
      ],
      "text/plain": [
       "        index    latitud  longitud           2\n",
       "1  acebeda-la  41.086958 -3.624399  La Acebeda"
      ]
     },
     "execution_count": 12,
     "metadata": {},
     "output_type": "execute_result"
    }
   ],
   "source": [
    "df_municipios['latitud']=df_municipios['latitud'].astype(float)\n",
    "df_municipios['longitud']=df_municipios['longitud'].astype(float)\n",
    "df_municipios.head(1)"
   ]
  },
  {
   "cell_type": "code",
   "execution_count": 13,
   "metadata": {},
   "outputs": [],
   "source": [
    "lista_municipios=[]\n",
    "\n",
    "for fila in df_municipios.values:\n",
    "    lista_municipios.append(tuple(fila))\n"
   ]
  },
  {
   "cell_type": "code",
   "execution_count": 14,
   "metadata": {},
   "outputs": [],
   "source": [
    "try:\n",
    "    conn = psycopg2.connect(\n",
    "    database=\"laaboratorio3\",\n",
    "    user=\"postgres\",\n",
    "    password=\"admin\",\n",
    "    host=\"localhost\",\n",
    "    port=\"5432\")\n",
    "except OperationalError as e:\n",
    "    if e.pgcode ==errorcodes.INVALID_PASSWORD:\n",
    "        print(\"La constraseña es incorrecta\")\n",
    "    elif e.pgcode ==errorcodes.CONNECTION_EXCEPTION:\n",
    "        print(\"Error de conexión\")"
   ]
  },
  {
   "cell_type": "code",
   "execution_count": 15,
   "metadata": {},
   "outputs": [
    {
     "data": {
      "text/plain": [
       "<cursor object at 0x0000022588157E60; closed: 0>"
      ]
     },
     "execution_count": 15,
     "metadata": {},
     "output_type": "execute_result"
    }
   ],
   "source": [
    "conn.rollback()\n",
    "\n",
    "conn = conn.cursor()\n",
    "conn"
   ]
  },
  {
   "cell_type": "code",
   "execution_count": 17,
   "metadata": {},
   "outputs": [
    {
     "ename": "TypeError",
     "evalue": "function missing required argument 'vars_list' (pos 2)",
     "output_type": "error",
     "traceback": [
      "\u001b[1;31m---------------------------------------------------------------------------\u001b[0m",
      "\u001b[1;31mTypeError\u001b[0m                                 Traceback (most recent call last)",
      "Cell \u001b[1;32mIn[17], line 49\u001b[0m\n\u001b[0;32m      1\u001b[0m query_creacion \u001b[38;5;241m=\u001b[39m \u001b[38;5;124m\"\"\"\u001b[39m\n\u001b[0;32m      2\u001b[0m \u001b[38;5;124mCREATE TABLE IF NOT EXISTS Municipios (\u001b[39m\n\u001b[0;32m      3\u001b[0m \u001b[38;5;124m    id_municipio VARCHAR(50) PRIMARY KEY,\u001b[39m\n\u001b[1;32m   (...)\u001b[0m\n\u001b[0;32m     46\u001b[0m \u001b[38;5;124m);\u001b[39m\n\u001b[0;32m     47\u001b[0m \u001b[38;5;124m\"\"\"\u001b[39m\n\u001b[1;32m---> 49\u001b[0m \u001b[43mconn\u001b[49m\u001b[38;5;241;43m.\u001b[39;49m\u001b[43mexecutemany\u001b[49m\u001b[43m(\u001b[49m\u001b[43mquery_creacion\u001b[49m\u001b[43m)\u001b[49m\n\u001b[0;32m     50\u001b[0m conn\u001b[38;5;241m.\u001b[39mcommit()\n",
      "\u001b[1;31mTypeError\u001b[0m: function missing required argument 'vars_list' (pos 2)"
     ]
    }
   ],
   "source": [
    "# Crear tablas\n",
    "# Tabla Municipio\n",
    "# index        object\n",
    "# latitud     float64\n",
    "# longitud    float64\n",
    "# 2            object\n",
    "\n",
    "querydecreacion1 = \"\"\"\n",
    "    CREATE TABLE IF NOT EXISTS Municipios (\n",
    "    id_municipio VARCHAR(50) PRIMARY KEY,\n",
    "    latitud DECIMAL,\n",
    "    longitud DECIMAL,\n",
    "    nombre VARCHAR(50)\n",
    ");\n",
    "\"\"\"\n",
    "\n",
    "# Ejecutar la consulta y confirmar los cambios\n",
    "conn.execute(querydecreacion1)\n",
    "conn.commit()\n",
    "\n",
    "# Tabla Lugar\n",
    "\n",
    "# municipio         object\n",
    "# category          object\n",
    "# fsq_id            object\n",
    "# closed_bucket     object\n",
    "# distance         float64\n",
    "# link              object\n",
    "# name              object\n",
    "# address           object\n",
    "# latitude         float64\n",
    "# longitude        float64\n",
    "# dtype: object\n",
    "\n",
    "querydecreacion2 = \"\"\"\n",
    "    CREATE TABLE IF NOT EXISTS Lugar (\n",
    "    id_lugar SERIAL PRIMARY KEY,\n",
    "    id_municipio VARCHAR,\n",
    "    categoria VARCHAR,\n",
    "    fsq_id VARCHAR,\n",
    "    closed_bucket VARCHAR,\n",
    "    distance DECIMAL,\n",
    "    link VARCHAR,\n",
    "    name VARCHAR,\n",
    "    address VARCHAR,\n",
    "    latitud DECIMAL,\n",
    "    longitud DECIMAL,\n",
    "    FOREIGN KEY (id_municipio) REFERENCES Municipios(id_municipio)\n",
    "    on delete restrict\n",
    "    on update cascade\n",
    ");\n",
    "\"\"\"\n",
    "\n",
    "# Ejecutar la consulta y confirmar los cambios\n",
    "conn.execute(querydecreacion2)\n",
    "conn.commit()\n",
    "\n",
    "# Tabla Tiempo\n",
    "\n",
    "# fecha                     datetime64\n",
    "# cielo                     object\n",
    "# temp._(°c)                 int64\n",
    "# sen._térmica_(°c)          int64\n",
    "# racha_máx._(km/h)        float64\n",
    "# precipitación_(mm)       float64\n",
    "# nieve_(mm)                 int64\n",
    "# humedad_relativa_(%)       int64\n",
    "# prob._precip.__(%)        object\n",
    "# prob._de_nieve_(%)         int64\n",
    "# prob._de_tormenta_(%)      int64\n",
    "# avisos                    object\n",
    "# dirección_viento          object\n",
    "# velocidad_del_viento       int64\n",
    "# localizacion_id           object\n",
    "\n",
    "querydecreacion3 = \"\"\"\n",
    "    CREATE TABLE IF NOT EXISTS Tiempo (\n",
    "    id_tiempo SERIAL PRIMARY KEY,\n",
    "    fecha DATE,\n",
    "    cielo VARCHAR,\n",
    "    temperatura INT,\n",
    "    sensacion_termica INT,\n",
    "    racha_max DECIMAL,\n",
    "    precipitacion DECIMAL,\n",
    "    nieve INT,\n",
    "    humedad_relativa INT,\n",
    "    prob_precip VARCHAR,\n",
    "    prob_de_nieve INT,\n",
    "    prob_de_tormenta INT,\n",
    "    avisos VARCHAR,\n",
    "    direccion_viento VARCHAR,\n",
    "    velocidad_viento INT,\n",
    "    id_municipio VARCHAR,\n",
    "    FOREIGN KEY (id_municipio) REFERENCES Municipios(id_municipio)\n",
    "    on delete restrict\n",
    "    on update cascade\n",
    ");\n",
    "\"\"\"\n",
    "\n",
    "# Ejecutar la consulta y confirmar los cambios\n",
    "conn.execute(querydecreacion3)\n",
    "conn.commit()"
   ]
  },
  {
   "cell_type": "code",
   "execution_count": null,
   "metadata": {},
   "outputs": [
    {
     "data": {
      "text/plain": [
       "<cursor object at 0x000001EFD4532500; closed: 0>"
      ]
     },
     "execution_count": 66,
     "metadata": {},
     "output_type": "execute_result"
    }
   ],
   "source": [
    "conn.rollback()\n",
    "\n",
    "conn = conn.cursor()\n",
    "conn"
   ]
  },
  {
   "cell_type": "code",
   "execution_count": null,
   "metadata": {},
   "outputs": [],
   "source": [
    "queryinsercion = 'INSERT INTO municipios (id_municipio, latitud, longitud, nombre) VALUES (%s,%s,%s,%s);'\n",
    "listavaloresinsercion=lista_municipios\n",
    "conn.executemany(queryinsercion,listavaloresinsercion)\n",
    "conn.commit()"
   ]
  },
  {
   "cell_type": "code",
   "execution_count": null,
   "metadata": {},
   "outputs": [],
   "source": [
    "conn.rollback()\n",
    "\n",
    "conn = conn.cursor()\n",
    "conn"
   ]
  },
  {
   "cell_type": "code",
   "execution_count": null,
   "metadata": {},
   "outputs": [],
   "source": [
    "queryinsercion = \"INSERT INTO lugar (id_municipio, categoria, fsq_id, closed_bucket, distance, link, name, address, latitud, longitud) VALUES (%s,%s,%s,%s,%s,%s,%s,%s,%s,%s);\"\n",
    "listavaloresinsercion=lista_lugares\n",
    "conn.executemany(queryinsercion,listavaloresinsercion)\n",
    "conn.commit()"
   ]
  },
  {
   "cell_type": "code",
   "execution_count": null,
   "metadata": {},
   "outputs": [],
   "source": [
    "conn.rollback()\n",
    "\n",
    "conn = conn.cursor()\n",
    "conn"
   ]
  },
  {
   "cell_type": "code",
   "execution_count": null,
   "metadata": {},
   "outputs": [],
   "source": [
    "queryinsercion = \"INSERT INTO tiempo (fecha, cielo, temperatura, sensacion_termica, racha_max, precipitacion, nieve, humedad_relativa, prob_precip, prob_de_nieve, prob_de_tormenta, avisos, direccion_viento, velocidad_viento, id_municipio) VALUES (%s,%s,%s,%s,%s,%s,%s,%s,%s,%s,%s,%s,%s,%s,%s);\"\n",
    "listavaloresinsercion = lista_datosmeteo\n",
    "conn.executemany(queryinsercion, listavaloresinsercion)\n",
    "conn.commit()"
   ]
  }
 ],
 "metadata": {
  "kernelspec": {
   "display_name": "Python 3",
   "language": "python",
   "name": "python3"
  },
  "language_info": {
   "codemirror_mode": {
    "name": "ipython",
    "version": 3
   },
   "file_extension": ".py",
   "mimetype": "text/x-python",
   "name": "python",
   "nbconvert_exporter": "python",
   "pygments_lexer": "ipython3",
   "version": "3.12.4"
  }
 },
 "nbformat": 4,
 "nbformat_minor": 2
}
