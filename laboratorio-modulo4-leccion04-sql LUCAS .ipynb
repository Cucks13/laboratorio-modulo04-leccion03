{
 "cells": [
  {
   "cell_type": "code",
   "execution_count": 59,
   "metadata": {},
   "outputs": [],
   "source": [
    "# importamos las librerías con las que vamos a trabajar\n",
    "\n",
    "# Trabajar con bases de datos y python\n",
    "# -----------------------------------------------------------------------\n",
    "import psycopg2\n",
    "from psycopg2 import OperationalError, errorcodes, errors\n",
    "\n",
    "\n",
    "# Trabajar con DataFrames\n",
    "# -----------------------------------------------------------------------\n",
    "import pandas as pd\n",
    "import matplotlib.pyplot as plt"
   ]
  },
  {
   "cell_type": "code",
   "execution_count": 60,
   "metadata": {},
   "outputs": [],
   "source": [
    "try:\n",
    "    conexion = psycopg2.connect(\n",
    "    database=\"laaboratorio3\",\n",
    "    user=\"postgres\",\n",
    "    password=\"admin\",\n",
    "    host=\"localhost\",\n",
    "    port=\"5432\")\n",
    "except OperationalError as e:\n",
    "    if e.pgcode ==errorcodes.INVALID_PASSWORD:\n",
    "        print(\"La constraseña es incorrecta\")\n",
    "    elif e.pgcode ==errorcodes.CONNECTION_EXCEPTION:\n",
    "        print(\"Error de conexión\")"
   ]
  },
  {
   "cell_type": "code",
   "execution_count": 61,
   "metadata": {},
   "outputs": [],
   "source": [
    "cursor = conexion.cursor()"
   ]
  },
  {
   "cell_type": "code",
   "execution_count": 62,
   "metadata": {},
   "outputs": [],
   "source": [
    "conexion.rollback()"
   ]
  },
  {
   "cell_type": "markdown",
   "metadata": {},
   "source": [
    "# Ejercicio 1. Queries Generales"
   ]
  },
  {
   "cell_type": "markdown",
   "metadata": {},
   "source": [
    "#### Ejercicio 1.1. Calcula el promedio más bajo y más alto de temperatura"
   ]
  },
  {
   "cell_type": "code",
   "execution_count": 63,
   "metadata": {},
   "outputs": [
    {
     "data": {
      "text/html": [
       "<div>\n",
       "<style scoped>\n",
       "    .dataframe tbody tr th:only-of-type {\n",
       "        vertical-align: middle;\n",
       "    }\n",
       "\n",
       "    .dataframe tbody tr th {\n",
       "        vertical-align: top;\n",
       "    }\n",
       "\n",
       "    .dataframe thead th {\n",
       "        text-align: right;\n",
       "    }\n",
       "</style>\n",
       "<table border=\"1\" class=\"dataframe\">\n",
       "  <thead>\n",
       "    <tr style=\"text-align: right;\">\n",
       "      <th></th>\n",
       "      <th>Media</th>\n",
       "      <th>Max</th>\n",
       "      <th>Min</th>\n",
       "    </tr>\n",
       "  </thead>\n",
       "  <tbody>\n",
       "    <tr>\n",
       "      <th>0</th>\n",
       "      <td>21.2498387720882239</td>\n",
       "      <td>32</td>\n",
       "      <td>9</td>\n",
       "    </tr>\n",
       "  </tbody>\n",
       "</table>\n",
       "</div>"
      ],
      "text/plain": [
       "                 Media  Max  Min\n",
       "0  21.2498387720882239   32    9"
      ]
     },
     "execution_count": 63,
     "metadata": {},
     "output_type": "execute_result"
    }
   ],
   "source": [
    "query1 = \"\"\"\n",
    "select avg(temperatura), max(temperatura), min(temperatura) from tiempo;\n",
    "\"\"\"\n",
    "\n",
    "cursor.execute(query1)\n",
    "df_query1 = pd.DataFrame(cursor.fetchall(),columns=[\"Media\",\"Max\",\"Min\"])\n",
    "# df_query1.columns = [\"Media\",\"Max\",\"Min\"]\n",
    "df_query1\n"
   ]
  },
  {
   "cell_type": "markdown",
   "metadata": {},
   "source": [
    "#### 1.2. Obtén los municipios en los cuales coincidan las medias de la sensación térmica y de la temperatura."
   ]
  },
  {
   "cell_type": "code",
   "execution_count": 64,
   "metadata": {},
   "outputs": [
    {
     "data": {
      "text/html": [
       "<div>\n",
       "<style scoped>\n",
       "    .dataframe tbody tr th:only-of-type {\n",
       "        vertical-align: middle;\n",
       "    }\n",
       "\n",
       "    .dataframe tbody tr th {\n",
       "        vertical-align: top;\n",
       "    }\n",
       "\n",
       "    .dataframe thead th {\n",
       "        text-align: right;\n",
       "    }\n",
       "</style>\n",
       "<table border=\"1\" class=\"dataframe\">\n",
       "  <thead>\n",
       "    <tr style=\"text-align: right;\">\n",
       "      <th></th>\n",
       "      <th>Municipios coincidentes</th>\n",
       "    </tr>\n",
       "  </thead>\n",
       "  <tbody>\n",
       "    <tr>\n",
       "      <th>0</th>\n",
       "      <td>pradena-del-rincon</td>\n",
       "    </tr>\n",
       "    <tr>\n",
       "      <th>1</th>\n",
       "      <td>robregordo</td>\n",
       "    </tr>\n",
       "    <tr>\n",
       "      <th>2</th>\n",
       "      <td>pinuecar-gandullas</td>\n",
       "    </tr>\n",
       "    <tr>\n",
       "      <th>3</th>\n",
       "      <td>atazar-el</td>\n",
       "    </tr>\n",
       "    <tr>\n",
       "      <th>4</th>\n",
       "      <td>collado-mediano</td>\n",
       "    </tr>\n",
       "  </tbody>\n",
       "</table>\n",
       "</div>"
      ],
      "text/plain": [
       "  Municipios coincidentes\n",
       "0      pradena-del-rincon\n",
       "1              robregordo\n",
       "2      pinuecar-gandullas\n",
       "3               atazar-el\n",
       "4         collado-mediano"
      ]
     },
     "execution_count": 64,
     "metadata": {},
     "output_type": "execute_result"
    }
   ],
   "source": [
    "query2 = \"\"\"\n",
    "select id_municipio\n",
    "from tiempo\n",
    "group by id_municipio\n",
    "having avg(temperatura) = avg(sensacion_termica);\n",
    "\"\"\"\n",
    "\n",
    "cursor.execute(query2)\n",
    "df_query1 = pd.DataFrame(cursor.fetchall(), columns=[\"Municipios coincidentes\"])\n",
    "df_query1.head(5)"
   ]
  },
  {
   "cell_type": "markdown",
   "metadata": {},
   "source": [
    "#### 1.3. Obtén el local más cercano de cada municipio"
   ]
  },
  {
   "cell_type": "code",
   "execution_count": 65,
   "metadata": {},
   "outputs": [
    {
     "data": {
      "text/html": [
       "<div>\n",
       "<style scoped>\n",
       "    .dataframe tbody tr th:only-of-type {\n",
       "        vertical-align: middle;\n",
       "    }\n",
       "\n",
       "    .dataframe tbody tr th {\n",
       "        vertical-align: top;\n",
       "    }\n",
       "\n",
       "    .dataframe thead th {\n",
       "        text-align: right;\n",
       "    }\n",
       "</style>\n",
       "<table border=\"1\" class=\"dataframe\">\n",
       "  <thead>\n",
       "    <tr style=\"text-align: right;\">\n",
       "      <th></th>\n",
       "      <th>Municipios</th>\n",
       "      <th>Local</th>\n",
       "      <th>Distancia</th>\n",
       "    </tr>\n",
       "  </thead>\n",
       "  <tbody>\n",
       "    <tr>\n",
       "      <th>0</th>\n",
       "      <td>Villaviciosa de Odón</td>\n",
       "      <td>Monument</td>\n",
       "      <td>747.0</td>\n",
       "    </tr>\n",
       "    <tr>\n",
       "      <th>1</th>\n",
       "      <td>Navacerrada</td>\n",
       "      <td>Park</td>\n",
       "      <td>95.0</td>\n",
       "    </tr>\n",
       "    <tr>\n",
       "      <th>2</th>\n",
       "      <td>Tres Cantos</td>\n",
       "      <td>Monument</td>\n",
       "      <td>577.0</td>\n",
       "    </tr>\n",
       "    <tr>\n",
       "      <th>3</th>\n",
       "      <td>Meco</td>\n",
       "      <td>Park</td>\n",
       "      <td>925.0</td>\n",
       "    </tr>\n",
       "    <tr>\n",
       "      <th>4</th>\n",
       "      <td>Tres Cantos</td>\n",
       "      <td>TV Station</td>\n",
       "      <td>1106.0</td>\n",
       "    </tr>\n",
       "  </tbody>\n",
       "</table>\n",
       "</div>"
      ],
      "text/plain": [
       "             Municipios       Local Distancia\n",
       "0  Villaviciosa de Odón    Monument     747.0\n",
       "1           Navacerrada        Park      95.0\n",
       "2           Tres Cantos    Monument     577.0\n",
       "3                  Meco        Park     925.0\n",
       "4           Tres Cantos  TV Station    1106.0"
      ]
     },
     "execution_count": 65,
     "metadata": {},
     "output_type": "execute_result"
    }
   ],
   "source": [
    "query3 = \"\"\"\n",
    "select m.\"nombre\", categoria, min(distance)\n",
    "from lugar l\n",
    "inner join \"municipios\" m on m.\"id_municipio\" = l.\"id_municipio\" \n",
    "group by m.\"nombre\", categoria\n",
    "\"\"\"\n",
    "\n",
    "cursor.execute(query3)\n",
    "df_query3 = pd.DataFrame(cursor.fetchall(), columns=[\"Municipios\",\"Local\",\"Distancia\"])\n",
    "df_query3.head()"
   ]
  },
  {
   "cell_type": "markdown",
   "metadata": {},
   "source": [
    "#### 1.4. Localiza los municipios que posean algún localizador a una distancia mayor de 2000 y que posean al menos 25 locales."
   ]
  },
  {
   "cell_type": "code",
   "execution_count": 66,
   "metadata": {},
   "outputs": [
    {
     "data": {
      "text/html": [
       "<div>\n",
       "<style scoped>\n",
       "    .dataframe tbody tr th:only-of-type {\n",
       "        vertical-align: middle;\n",
       "    }\n",
       "\n",
       "    .dataframe tbody tr th {\n",
       "        vertical-align: top;\n",
       "    }\n",
       "\n",
       "    .dataframe thead th {\n",
       "        text-align: right;\n",
       "    }\n",
       "</style>\n",
       "<table border=\"1\" class=\"dataframe\">\n",
       "  <thead>\n",
       "    <tr style=\"text-align: right;\">\n",
       "      <th></th>\n",
       "      <th>Municipios</th>\n",
       "      <th>Local</th>\n",
       "      <th>Distancia</th>\n",
       "    </tr>\n",
       "  </thead>\n",
       "  <tbody>\n",
       "    <tr>\n",
       "      <th>0</th>\n",
       "      <td>Madrid</td>\n",
       "      <td>Film Studio</td>\n",
       "      <td>2002.0</td>\n",
       "    </tr>\n",
       "  </tbody>\n",
       "</table>\n",
       "</div>"
      ],
      "text/plain": [
       "  Municipios        Local Distancia\n",
       "0     Madrid  Film Studio    2002.0"
      ]
     },
     "execution_count": 66,
     "metadata": {},
     "output_type": "execute_result"
    }
   ],
   "source": [
    "query4 = \"\"\"\n",
    "select m.\"nombre\", categoria, distance\n",
    "from lugar l\n",
    "inner join \"municipios\" m on m.\"id_municipio\" = l.\"id_municipio\" \n",
    "group by m.\"nombre\", categoria, l.distance, address\n",
    "having distance > 2000\n",
    "\"\"\"\n",
    "\n",
    "cursor.execute(query4)\n",
    "df_query4 = pd.DataFrame(cursor.fetchall(), columns=[\"Municipios\",\"Local\",\"Distancia\"])\n",
    "df_query4.head(5)"
   ]
  },
  {
   "cell_type": "markdown",
   "metadata": {},
   "source": [
    "#### 1.5. Teniendo en cuenta que el viento se considera leve con una velocidad media de entre 6 y 20 km/h, moderado con una media de entre 21 y 40 km/h, fuerte con media de entre 41 y 70 km/h y muy fuerte entre 71 y 120 km/h. Calcula cuántas rachas de cada tipo tenemos en cada uno de los días. Este ejercicio debes solucionarlo con la sentencia CASE de SQL (no la hemos visto en clase, por lo que tendrás que buscar la documentación)."
   ]
  },
  {
   "cell_type": "code",
   "execution_count": 67,
   "metadata": {},
   "outputs": [
    {
     "data": {
      "text/html": [
       "<div>\n",
       "<style scoped>\n",
       "    .dataframe tbody tr th:only-of-type {\n",
       "        vertical-align: middle;\n",
       "    }\n",
       "\n",
       "    .dataframe tbody tr th {\n",
       "        vertical-align: top;\n",
       "    }\n",
       "\n",
       "    .dataframe thead th {\n",
       "        text-align: right;\n",
       "    }\n",
       "</style>\n",
       "<table border=\"1\" class=\"dataframe\">\n",
       "  <thead>\n",
       "    <tr style=\"text-align: right;\">\n",
       "      <th></th>\n",
       "      <th>Fecha</th>\n",
       "      <th>id_municipio</th>\n",
       "      <th>Velocidad_viento(km/h)</th>\n",
       "      <th>tipo_viento</th>\n",
       "    </tr>\n",
       "  </thead>\n",
       "  <tbody>\n",
       "    <tr>\n",
       "      <th>7317</th>\n",
       "      <td>2024-08-29</td>\n",
       "      <td>villamanta</td>\n",
       "      <td>7</td>\n",
       "      <td>moderado</td>\n",
       "    </tr>\n",
       "    <tr>\n",
       "      <th>6043</th>\n",
       "      <td>2024-08-29</td>\n",
       "      <td>tielmes</td>\n",
       "      <td>22</td>\n",
       "      <td>fuerte</td>\n",
       "    </tr>\n",
       "    <tr>\n",
       "      <th>5033</th>\n",
       "      <td>2024-08-29</td>\n",
       "      <td>reduena</td>\n",
       "      <td>5</td>\n",
       "      <td>leve</td>\n",
       "    </tr>\n",
       "    <tr>\n",
       "      <th>3425</th>\n",
       "      <td>2024-08-30</td>\n",
       "      <td>majadahonda</td>\n",
       "      <td>15</td>\n",
       "      <td>moderado</td>\n",
       "    </tr>\n",
       "    <tr>\n",
       "      <th>4302</th>\n",
       "      <td>2024-08-30</td>\n",
       "      <td>paracuellos-de-jarama</td>\n",
       "      <td>12</td>\n",
       "      <td>moderado</td>\n",
       "    </tr>\n",
       "    <tr>\n",
       "      <th>3134</th>\n",
       "      <td>2024-08-29</td>\n",
       "      <td>humanes-de-madrid</td>\n",
       "      <td>8</td>\n",
       "      <td>moderado</td>\n",
       "    </tr>\n",
       "    <tr>\n",
       "      <th>7049</th>\n",
       "      <td>2024-08-29</td>\n",
       "      <td>vellon-el</td>\n",
       "      <td>5</td>\n",
       "      <td>leve</td>\n",
       "    </tr>\n",
       "    <tr>\n",
       "      <th>1847</th>\n",
       "      <td>2024-08-31</td>\n",
       "      <td>cobena</td>\n",
       "      <td>11</td>\n",
       "      <td>moderado</td>\n",
       "    </tr>\n",
       "    <tr>\n",
       "      <th>6161</th>\n",
       "      <td>2024-08-31</td>\n",
       "      <td>torrejon-de-ardoz</td>\n",
       "      <td>9</td>\n",
       "      <td>moderado</td>\n",
       "    </tr>\n",
       "    <tr>\n",
       "      <th>7099</th>\n",
       "      <td>2024-08-29</td>\n",
       "      <td>venturada</td>\n",
       "      <td>9</td>\n",
       "      <td>moderado</td>\n",
       "    </tr>\n",
       "  </tbody>\n",
       "</table>\n",
       "</div>"
      ],
      "text/plain": [
       "           Fecha           id_municipio  Velocidad_viento(km/h) tipo_viento\n",
       "7317  2024-08-29             villamanta                       7    moderado\n",
       "6043  2024-08-29                tielmes                      22      fuerte\n",
       "5033  2024-08-29                reduena                       5        leve\n",
       "3425  2024-08-30            majadahonda                      15    moderado\n",
       "4302  2024-08-30  paracuellos-de-jarama                      12    moderado\n",
       "3134  2024-08-29      humanes-de-madrid                       8    moderado\n",
       "7049  2024-08-29              vellon-el                       5        leve\n",
       "1847  2024-08-31                 cobena                      11    moderado\n",
       "6161  2024-08-31      torrejon-de-ardoz                       9    moderado\n",
       "7099  2024-08-29              venturada                       9    moderado"
      ]
     },
     "execution_count": 67,
     "metadata": {},
     "output_type": "execute_result"
    }
   ],
   "source": [
    "query5 = \"\"\"\n",
    "select fecha, id_municipio, velocidad_viento,\n",
    "case \n",
    "    when velocidad_viento <= 6 AND velocidad_viento <= 20 THEN 'leve'\n",
    "    when velocidad_viento <= 21 AND velocidad_viento <= 40 THEN 'moderado'\n",
    "    when velocidad_viento <= 41 AND velocidad_viento <= 70 THEN 'fuerte'\n",
    "    when velocidad_viento <= 71 AND velocidad_viento <= 120 THEN 'muy fuerte'\n",
    "END\n",
    "from tiempo t \n",
    "\"\"\"\n",
    "cursor.execute(query5)\n",
    "df_query5 = pd.DataFrame(cursor.fetchall(), columns = [\"Fecha\",\"id_municipio\",\"Velocidad_viento(km/h)\",\"tipo_viento\"])\n",
    "df_query5.sample(10)"
   ]
  },
  {
   "cell_type": "code",
   "execution_count": 86,
   "metadata": {},
   "outputs": [],
   "source": [
    "conexion.rollback()"
   ]
  },
  {
   "cell_type": "markdown",
   "metadata": {},
   "source": [
    "# Ejercicio2. Vistas"
   ]
  },
  {
   "cell_type": "markdown",
   "metadata": {},
   "source": [
    "#### 2.1. Crea una vista que muestre la información de los locales que tengan incluido el código postal en su dirección."
   ]
  },
  {
   "cell_type": "code",
   "execution_count": 69,
   "metadata": {},
   "outputs": [],
   "source": [
    "# La dejo para más tarde, no soy capaz de comprender las cosas\n",
    "query6 = \"\"\"\n",
    "create view vista3 as\n",
    "select id_municipio\n",
    "from lugar l\n",
    "where address ~ '/d{5}'\n",
    "\"\"\"\n",
    "cursor.execute(query6)"
   ]
  },
  {
   "cell_type": "markdown",
   "metadata": {},
   "source": [
    "#### 2.2. Crea una vista con los locales que tienen más de una categoría asociada."
   ]
  },
  {
   "cell_type": "code",
   "execution_count": 70,
   "metadata": {},
   "outputs": [],
   "source": [
    "query6 = \"\"\"\n",
    "create view Tabla_categorias as\n",
    "select name,count(categoria) over (partition by categoria) as \"cat\" \n",
    "from lugar l ;\n",
    "\"\"\"\n",
    "cursor.execute(query6)"
   ]
  },
  {
   "cell_type": "markdown",
   "metadata": {},
   "source": [
    "#### 2.3 Crea una vista que muestre el municipio con la temperatura más alta de cada día"
   ]
  },
  {
   "cell_type": "code",
   "execution_count": 71,
   "metadata": {},
   "outputs": [],
   "source": [
    "query6 = \"\"\"\n",
    "create view muni_temp as\n",
    "select id_municipio, max(temperatura) over (partition by fecha) \n",
    "from tiempo t ;\n",
    "\"\"\"\n",
    "cursor.execute(query6)"
   ]
  },
  {
   "cell_type": "markdown",
   "metadata": {},
   "source": [
    "#### 2.4. Crea una vista con los municipios en los que haya una probabilidad de precipitación mayor del 100% durante mínimo 7 horas."
   ]
  },
  {
   "cell_type": "code",
   "execution_count": 72,
   "metadata": {},
   "outputs": [],
   "source": [
    "query6 = \"\"\"\n",
    "create view prob100 as\n",
    "select id_municipio\n",
    "from tiempo t\n",
    "where prob_precip = '100' OR prob_precip = 'riesgo'\n",
    "\"\"\"\n",
    "cursor.execute(query6)"
   ]
  },
  {
   "cell_type": "markdown",
   "metadata": {},
   "source": [
    "#### 2.5. Obtén una lista con los parques de los municipios que tengan algún castillo."
   ]
  },
  {
   "cell_type": "code",
   "execution_count": 73,
   "metadata": {},
   "outputs": [],
   "source": [
    "query6 = \"\"\"\n",
    "create view castillo1 as\n",
    "select name\n",
    "from lugar l\n",
    "where categoria = 'Castle'\n",
    "\"\"\"\n",
    "cursor.execute(query6)\n",
    "# He tenido que ejecutar la obtencion en DBBeaver, esta la obtención en la foto: fotinchi.png"
   ]
  },
  {
   "cell_type": "code",
   "execution_count": 83,
   "metadata": {},
   "outputs": [],
   "source": [
    "conexion.rollback()"
   ]
  },
  {
   "cell_type": "markdown",
   "metadata": {},
   "source": [
    "# Ejercicio 3. Tablas Temporales"
   ]
  },
  {
   "cell_type": "markdown",
   "metadata": {},
   "source": [
    "#### 3.1. Crea una tabla temporal que muestre cuántos días han pasado desde que se obtuvo la información de la tabla AEMET."
   ]
  },
  {
   "cell_type": "code",
   "execution_count": 75,
   "metadata": {},
   "outputs": [],
   "source": [
    "query6 = \"\"\"\n",
    "CREATE TEMPORARY TABLE Dias_Desde_Ultima_Fecha AS\n",
    "SELECT \n",
    "    id_tiempo, \n",
    "    id_municipio, \n",
    "    fecha, \n",
    "    (CURRENT_DATE - fecha) AS dias_transcurridos\n",
    "FROM \n",
    "    tiempo;\n",
    "\"\"\"\n",
    "cursor.execute(query6)"
   ]
  },
  {
   "cell_type": "markdown",
   "metadata": {},
   "source": [
    "#### 3.2. Crea una tabla temporal que muestre los locales que tienen más de una categoría asociada e indica el conteo de las mismas"
   ]
  },
  {
   "cell_type": "code",
   "execution_count": 76,
   "metadata": {},
   "outputs": [],
   "source": [
    "query6 = \"\"\"\n",
    "CREATE TEMPORARY TABLE Locales_Multiples_Categorias AS\n",
    "SELECT \n",
    "    id_lugar, \n",
    "    COUNT(DISTINCT categoria) AS total_categorias\n",
    "FROM lugar\n",
    "GROUP BY id_lugar\n",
    "HAVING COUNT(DISTINCT categoria) > 1;\n",
    "\"\"\"\n",
    "cursor.execute(query6)"
   ]
  },
  {
   "cell_type": "markdown",
   "metadata": {},
   "source": [
    "#### 3.3. Crea una tabla temporal que muestre los tipos de cielo para los cuales la probabilidad de precipitación mínima de los promedios de cada día es 5."
   ]
  },
  {
   "cell_type": "markdown",
   "metadata": {},
   "source": [
    "#### 3.4. Crea una tabla temporal que muestre el tipo de cielo más y menos repetido por municipio."
   ]
  },
  {
   "cell_type": "code",
   "execution_count": 82,
   "metadata": {},
   "outputs": [],
   "source": [
    "query6 = \"\"\"\n",
    "CREATE TEMPORARY TABLE Cielo_Mas_Menos_Repetido AS\n",
    "WITH Cielo_Frecuencias AS (\n",
    "    SELECT \n",
    "        id_municipio, \n",
    "        cielo, \n",
    "        COUNT(*) AS frecuencia\n",
    "    FROM \n",
    "        tiempo\n",
    "    GROUP BY \n",
    "        id_municipio, cielo\n",
    ")\n",
    "SELECT \n",
    "    municipios.nombre AS municipio,\n",
    "    (SELECT cielo FROM Cielo_Frecuencias AS cf1 WHERE cf1.id_municipio = cf.id_municipio ORDER BY frecuencia DESC LIMIT 1) AS cielo_mas_repetido,\n",
    "    (SELECT cielo FROM Cielo_Frecuencias AS cf2 WHERE cf2.id_municipio = cf.id_municipio ORDER BY frecuencia ASC LIMIT 1) AS cielo_menos_repetido\n",
    "FROM \n",
    "    Cielo_Frecuencias AS cf\n",
    "JOIN \n",
    "    municipios ON municipios.id_municipio = cf.id_municipio\n",
    "GROUP BY \n",
    "    municipios.nombre, cf.id_municipio;\n",
    "\n",
    "\"\"\"\n",
    "cursor.execute(query6)"
   ]
  },
  {
   "cell_type": "markdown",
   "metadata": {},
   "source": [
    "# Ejercicio 4. SUBQUERIES"
   ]
  },
  {
   "cell_type": "markdown",
   "metadata": {},
   "source": [
    "#### 4.1. Necesitamos comprobar si hay algún municipio en el cual no tenga ningún local registrado."
   ]
  },
  {
   "cell_type": "code",
   "execution_count": 96,
   "metadata": {},
   "outputs": [
    {
     "data": {
      "text/html": [
       "<div>\n",
       "<style scoped>\n",
       "    .dataframe tbody tr th:only-of-type {\n",
       "        vertical-align: middle;\n",
       "    }\n",
       "\n",
       "    .dataframe tbody tr th {\n",
       "        vertical-align: top;\n",
       "    }\n",
       "\n",
       "    .dataframe thead th {\n",
       "        text-align: right;\n",
       "    }\n",
       "</style>\n",
       "<table border=\"1\" class=\"dataframe\">\n",
       "  <thead>\n",
       "    <tr style=\"text-align: right;\">\n",
       "      <th></th>\n",
       "      <th>Sin Local</th>\n",
       "    </tr>\n",
       "  </thead>\n",
       "  <tbody>\n",
       "    <tr>\n",
       "      <th>0</th>\n",
       "      <td>La Acebeda</td>\n",
       "    </tr>\n",
       "    <tr>\n",
       "      <th>1</th>\n",
       "      <td>Alameda del Valle</td>\n",
       "    </tr>\n",
       "    <tr>\n",
       "      <th>2</th>\n",
       "      <td>Aldea del Fresno</td>\n",
       "    </tr>\n",
       "    <tr>\n",
       "      <th>3</th>\n",
       "      <td>Ambite</td>\n",
       "    </tr>\n",
       "    <tr>\n",
       "      <th>4</th>\n",
       "      <td>Anchuelo</td>\n",
       "    </tr>\n",
       "  </tbody>\n",
       "</table>\n",
       "</div>"
      ],
      "text/plain": [
       "           Sin Local\n",
       "0         La Acebeda\n",
       "1  Alameda del Valle\n",
       "2   Aldea del Fresno\n",
       "3             Ambite\n",
       "4           Anchuelo"
      ]
     },
     "execution_count": 96,
     "metadata": {},
     "output_type": "execute_result"
    }
   ],
   "source": [
    "query4 = \"\"\"\n",
    "SELECT nombre \n",
    "FROM municipios\n",
    "WHERE id_municipio NOT IN (\n",
    "    SELECT id_municipio \n",
    "    FROM lugar\n",
    ");\n",
    "\"\"\"\n",
    "\n",
    "cursor.execute(query4)\n",
    "df_query4 = pd.DataFrame(cursor.fetchall(), columns = [\"Sin Local\"])\n",
    "df_query4.head(5)"
   ]
  },
  {
   "cell_type": "markdown",
   "metadata": {},
   "source": [
    "#### 4.2. Averigua si hay alguna fecha en la que el cielo se encuente \"Muy nuboso con tormenta\"."
   ]
  },
  {
   "cell_type": "code",
   "execution_count": 88,
   "metadata": {},
   "outputs": [
    {
     "data": {
      "text/html": [
       "<div>\n",
       "<style scoped>\n",
       "    .dataframe tbody tr th:only-of-type {\n",
       "        vertical-align: middle;\n",
       "    }\n",
       "\n",
       "    .dataframe tbody tr th {\n",
       "        vertical-align: top;\n",
       "    }\n",
       "\n",
       "    .dataframe thead th {\n",
       "        text-align: right;\n",
       "    }\n",
       "</style>\n",
       "<table border=\"1\" class=\"dataframe\">\n",
       "  <thead>\n",
       "    <tr style=\"text-align: right;\">\n",
       "      <th></th>\n",
       "      <th>Fecha</th>\n",
       "    </tr>\n",
       "  </thead>\n",
       "  <tbody>\n",
       "    <tr>\n",
       "      <th>0</th>\n",
       "      <td>2024-08-29</td>\n",
       "    </tr>\n",
       "    <tr>\n",
       "      <th>1</th>\n",
       "      <td>2024-08-29</td>\n",
       "    </tr>\n",
       "    <tr>\n",
       "      <th>2</th>\n",
       "      <td>2024-08-29</td>\n",
       "    </tr>\n",
       "  </tbody>\n",
       "</table>\n",
       "</div>"
      ],
      "text/plain": [
       "        Fecha\n",
       "0  2024-08-29\n",
       "1  2024-08-29\n",
       "2  2024-08-29"
      ]
     },
     "execution_count": 88,
     "metadata": {},
     "output_type": "execute_result"
    }
   ],
   "source": [
    "query4 = \"\"\"\n",
    "SELECT fecha \n",
    "FROM tiempo\n",
    "WHERE cielo = 'Muy nuboso con tormenta'; \n",
    "\"\"\"\n",
    "# Creo que no jhace falta hacer una subquery, \n",
    "cursor.execute(query4)\n",
    "df_query4 = pd.DataFrame(cursor.fetchall(),columns=[\"Fecha\"])\n",
    "df_query4.head(5)"
   ]
  },
  {
   "cell_type": "markdown",
   "metadata": {},
   "source": [
    "#### 4.3. Encuentra los días en los que los avisos sean diferentes a \"Sin riesgo\"."
   ]
  },
  {
   "cell_type": "code",
   "execution_count": 89,
   "metadata": {},
   "outputs": [
    {
     "data": {
      "text/html": [
       "<div>\n",
       "<style scoped>\n",
       "    .dataframe tbody tr th:only-of-type {\n",
       "        vertical-align: middle;\n",
       "    }\n",
       "\n",
       "    .dataframe tbody tr th {\n",
       "        vertical-align: top;\n",
       "    }\n",
       "\n",
       "    .dataframe thead th {\n",
       "        text-align: right;\n",
       "    }\n",
       "</style>\n",
       "<table border=\"1\" class=\"dataframe\">\n",
       "  <thead>\n",
       "    <tr style=\"text-align: right;\">\n",
       "      <th></th>\n",
       "      <th>Fecha</th>\n",
       "    </tr>\n",
       "  </thead>\n",
       "  <tbody>\n",
       "    <tr>\n",
       "      <th>0</th>\n",
       "      <td>2024-08-29</td>\n",
       "    </tr>\n",
       "    <tr>\n",
       "      <th>1</th>\n",
       "      <td>2024-08-29</td>\n",
       "    </tr>\n",
       "    <tr>\n",
       "      <th>2</th>\n",
       "      <td>2024-08-29</td>\n",
       "    </tr>\n",
       "    <tr>\n",
       "      <th>3</th>\n",
       "      <td>2024-08-29</td>\n",
       "    </tr>\n",
       "    <tr>\n",
       "      <th>4</th>\n",
       "      <td>2024-08-29</td>\n",
       "    </tr>\n",
       "  </tbody>\n",
       "</table>\n",
       "</div>"
      ],
      "text/plain": [
       "        Fecha\n",
       "0  2024-08-29\n",
       "1  2024-08-29\n",
       "2  2024-08-29\n",
       "3  2024-08-29\n",
       "4  2024-08-29"
      ]
     },
     "execution_count": 89,
     "metadata": {},
     "output_type": "execute_result"
    }
   ],
   "source": [
    "query4 = \"\"\"\n",
    "SELECT fecha \n",
    "FROM tiempo\n",
    "WHERE avisos <> 'Sin riesgo';\n",
    "\"\"\"\n",
    "# Creo que no jhace falta hacer una subquery, \n",
    "cursor.execute(query4)\n",
    "df_query4 = pd.DataFrame(cursor.fetchall(),columns=[\"Fecha\"])\n",
    "df_query4.head(5)"
   ]
  },
  {
   "cell_type": "markdown",
   "metadata": {},
   "source": [
    "#### 4.4. Selecciona el municipio con mayor número de locales."
   ]
  },
  {
   "cell_type": "code",
   "execution_count": 91,
   "metadata": {},
   "outputs": [
    {
     "data": {
      "text/html": [
       "<div>\n",
       "<style scoped>\n",
       "    .dataframe tbody tr th:only-of-type {\n",
       "        vertical-align: middle;\n",
       "    }\n",
       "\n",
       "    .dataframe tbody tr th {\n",
       "        vertical-align: top;\n",
       "    }\n",
       "\n",
       "    .dataframe thead th {\n",
       "        text-align: right;\n",
       "    }\n",
       "</style>\n",
       "<table border=\"1\" class=\"dataframe\">\n",
       "  <thead>\n",
       "    <tr style=\"text-align: right;\">\n",
       "      <th></th>\n",
       "      <th>Localisdad con mas lugares</th>\n",
       "    </tr>\n",
       "  </thead>\n",
       "  <tbody>\n",
       "    <tr>\n",
       "      <th>0</th>\n",
       "      <td>Madrid</td>\n",
       "    </tr>\n",
       "  </tbody>\n",
       "</table>\n",
       "</div>"
      ],
      "text/plain": [
       "  Localisdad con mas lugares\n",
       "0                     Madrid"
      ]
     },
     "execution_count": 91,
     "metadata": {},
     "output_type": "execute_result"
    }
   ],
   "source": [
    "query4 = \"\"\"\n",
    "SELECT nombre \n",
    "FROM municipios\n",
    "WHERE id_municipio = (\n",
    "    SELECT id_municipio \n",
    "    FROM lugar\n",
    "    GROUP BY id_municipio\n",
    "    ORDER BY COUNT(*) DESC\n",
    "    LIMIT 1\n",
    ");\n",
    "\n",
    "\"\"\"\n",
    "cursor.execute(query4)\n",
    "df_query4 = pd.DataFrame(cursor.fetchall(),columns=[\"Localisdad con mas lugares\"])\n",
    "df_query4.head(5)"
   ]
  },
  {
   "cell_type": "markdown",
   "metadata": {},
   "source": [
    "#### 4.5. Obtén los municipios muya media de sensación térmica sea mayor que la media total."
   ]
  },
  {
   "cell_type": "code",
   "execution_count": 92,
   "metadata": {},
   "outputs": [
    {
     "data": {
      "text/html": [
       "<div>\n",
       "<style scoped>\n",
       "    .dataframe tbody tr th:only-of-type {\n",
       "        vertical-align: middle;\n",
       "    }\n",
       "\n",
       "    .dataframe tbody tr th {\n",
       "        vertical-align: top;\n",
       "    }\n",
       "\n",
       "    .dataframe thead th {\n",
       "        text-align: right;\n",
       "    }\n",
       "</style>\n",
       "<table border=\"1\" class=\"dataframe\">\n",
       "  <thead>\n",
       "    <tr style=\"text-align: right;\">\n",
       "      <th></th>\n",
       "      <th>Sensación Media</th>\n",
       "    </tr>\n",
       "  </thead>\n",
       "  <tbody>\n",
       "    <tr>\n",
       "      <th>0</th>\n",
       "      <td>Ajalvir</td>\n",
       "    </tr>\n",
       "    <tr>\n",
       "      <th>1</th>\n",
       "      <td>El Álamo</td>\n",
       "    </tr>\n",
       "    <tr>\n",
       "      <th>2</th>\n",
       "      <td>Alcalá de Henares</td>\n",
       "    </tr>\n",
       "    <tr>\n",
       "      <th>3</th>\n",
       "      <td>Alcobendas</td>\n",
       "    </tr>\n",
       "    <tr>\n",
       "      <th>4</th>\n",
       "      <td>Alcorcón</td>\n",
       "    </tr>\n",
       "  </tbody>\n",
       "</table>\n",
       "</div>"
      ],
      "text/plain": [
       "     Sensación Media\n",
       "0            Ajalvir\n",
       "1           El Álamo\n",
       "2  Alcalá de Henares\n",
       "3         Alcobendas\n",
       "4           Alcorcón"
      ]
     },
     "execution_count": 92,
     "metadata": {},
     "output_type": "execute_result"
    }
   ],
   "source": [
    "query4 = \"\"\"\n",
    "SELECT nombre \n",
    "FROM municipios\n",
    "WHERE id_municipio IN (\n",
    "    SELECT id_municipio \n",
    "    FROM tiempo\n",
    "    GROUP BY id_municipio\n",
    "    HAVING AVG(sensacion_termica) > (\n",
    "        SELECT AVG(sensacion_termica) \n",
    "        FROM tiempo\n",
    "    )\n",
    ");\n",
    "\"\"\"\n",
    "cursor.execute(query4)\n",
    "df_query4 = pd.DataFrame(cursor.fetchall(),columns=[\"Sensación Media\"])\n",
    "df_query4.head(5)"
   ]
  },
  {
   "cell_type": "markdown",
   "metadata": {},
   "source": [
    "#### 4.6. Selecciona los municipios con más de dos fuentes."
   ]
  },
  {
   "cell_type": "code",
   "execution_count": 93,
   "metadata": {},
   "outputs": [
    {
     "data": {
      "text/html": [
       "<div>\n",
       "<style scoped>\n",
       "    .dataframe tbody tr th:only-of-type {\n",
       "        vertical-align: middle;\n",
       "    }\n",
       "\n",
       "    .dataframe tbody tr th {\n",
       "        vertical-align: top;\n",
       "    }\n",
       "\n",
       "    .dataframe thead th {\n",
       "        text-align: right;\n",
       "    }\n",
       "</style>\n",
       "<table border=\"1\" class=\"dataframe\">\n",
       "  <thead>\n",
       "    <tr style=\"text-align: right;\">\n",
       "      <th></th>\n",
       "      <th>localidad con más de dos fuentes</th>\n",
       "    </tr>\n",
       "  </thead>\n",
       "  <tbody>\n",
       "    <tr>\n",
       "      <th>0</th>\n",
       "      <td>Madrid</td>\n",
       "    </tr>\n",
       "  </tbody>\n",
       "</table>\n",
       "</div>"
      ],
      "text/plain": [
       "  localidad con más de dos fuentes\n",
       "0                           Madrid"
      ]
     },
     "execution_count": 93,
     "metadata": {},
     "output_type": "execute_result"
    }
   ],
   "source": [
    "query4 = \"\"\"\n",
    "SELECT nombre \n",
    "FROM municipios\n",
    "WHERE id_municipio IN (\n",
    "    SELECT id_municipio \n",
    "    FROM lugar\n",
    "    WHERE categoria = 'Fountain'\n",
    "    GROUP BY id_municipio\n",
    "    HAVING COUNT(*) > 2\n",
    ");\n",
    "\"\"\"\n",
    "cursor.execute(query4)\n",
    "df_query4 = pd.DataFrame(cursor.fetchall(),columns=[\"localidad con más de dos fuentes\"])\n",
    "df_query4.head(5)"
   ]
  },
  {
   "cell_type": "markdown",
   "metadata": {},
   "source": [
    "#### 4.7. Localiza la dirección de todos los estudios de cine que estén abiertod en el municipio de \"Madrid\"."
   ]
  },
  {
   "cell_type": "code",
   "execution_count": null,
   "metadata": {},
   "outputs": [
    {
     "data": {
      "text/html": [
       "<div>\n",
       "<style scoped>\n",
       "    .dataframe tbody tr th:only-of-type {\n",
       "        vertical-align: middle;\n",
       "    }\n",
       "\n",
       "    .dataframe tbody tr th {\n",
       "        vertical-align: top;\n",
       "    }\n",
       "\n",
       "    .dataframe thead th {\n",
       "        text-align: right;\n",
       "    }\n",
       "</style>\n",
       "<table border=\"1\" class=\"dataframe\">\n",
       "  <thead>\n",
       "    <tr style=\"text-align: right;\">\n",
       "      <th></th>\n",
       "    </tr>\n",
       "  </thead>\n",
       "  <tbody>\n",
       "  </tbody>\n",
       "</table>\n",
       "</div>"
      ],
      "text/plain": [
       "Empty DataFrame\n",
       "Columns: []\n",
       "Index: []"
      ]
     },
     "execution_count": 56,
     "metadata": {},
     "output_type": "execute_result"
    }
   ],
   "source": []
  },
  {
   "cell_type": "markdown",
   "metadata": {},
   "source": [
    "#### 4.8. Encuentra la máxima temperatura para cada tipo de cielo."
   ]
  },
  {
   "cell_type": "code",
   "execution_count": 94,
   "metadata": {},
   "outputs": [
    {
     "data": {
      "text/html": [
       "<div>\n",
       "<style scoped>\n",
       "    .dataframe tbody tr th:only-of-type {\n",
       "        vertical-align: middle;\n",
       "    }\n",
       "\n",
       "    .dataframe tbody tr th {\n",
       "        vertical-align: top;\n",
       "    }\n",
       "\n",
       "    .dataframe thead th {\n",
       "        text-align: right;\n",
       "    }\n",
       "</style>\n",
       "<table border=\"1\" class=\"dataframe\">\n",
       "  <thead>\n",
       "    <tr style=\"text-align: right;\">\n",
       "      <th></th>\n",
       "      <th>Cielo</th>\n",
       "      <th>Maxima temp</th>\n",
       "    </tr>\n",
       "  </thead>\n",
       "  <tbody>\n",
       "    <tr>\n",
       "      <th>0</th>\n",
       "      <td>Cubierto con lluvia</td>\n",
       "      <td>30</td>\n",
       "    </tr>\n",
       "    <tr>\n",
       "      <th>1</th>\n",
       "      <td>Nuboso con lluvia</td>\n",
       "      <td>16</td>\n",
       "    </tr>\n",
       "    <tr>\n",
       "      <th>2</th>\n",
       "      <td>Poco nuboso</td>\n",
       "      <td>32</td>\n",
       "    </tr>\n",
       "    <tr>\n",
       "      <th>3</th>\n",
       "      <td>Nuboso con lluvia escasa</td>\n",
       "      <td>30</td>\n",
       "    </tr>\n",
       "    <tr>\n",
       "      <th>4</th>\n",
       "      <td>Intervalos nubosos con lluvia escasa</td>\n",
       "      <td>31</td>\n",
       "    </tr>\n",
       "  </tbody>\n",
       "</table>\n",
       "</div>"
      ],
      "text/plain": [
       "                                  Cielo  Maxima temp\n",
       "0                   Cubierto con lluvia           30\n",
       "1                     Nuboso con lluvia           16\n",
       "2                           Poco nuboso           32\n",
       "3              Nuboso con lluvia escasa           30\n",
       "4  Intervalos nubosos con lluvia escasa           31"
      ]
     },
     "execution_count": 94,
     "metadata": {},
     "output_type": "execute_result"
    }
   ],
   "source": [
    "query4 = \"\"\"\n",
    "SELECT cielo, MAX(temperatura)\n",
    "FROM tiempo\n",
    "GROUP BY cielo;\n",
    "\"\"\"\n",
    "cursor.execute(query4)\n",
    "df_query4 = pd.DataFrame(cursor.fetchall(), columns=[\"Cielo\",\"Maxima temp\"])\n",
    "df_query4.head(5)"
   ]
  },
  {
   "cell_type": "markdown",
   "metadata": {},
   "source": [
    "#### 4.9. Muestra el número de locales por categoría que muy probablemente se encuentren abiertos."
   ]
  },
  {
   "cell_type": "code",
   "execution_count": 95,
   "metadata": {},
   "outputs": [
    {
     "data": {
      "text/html": [
       "<div>\n",
       "<style scoped>\n",
       "    .dataframe tbody tr th:only-of-type {\n",
       "        vertical-align: middle;\n",
       "    }\n",
       "\n",
       "    .dataframe tbody tr th {\n",
       "        vertical-align: top;\n",
       "    }\n",
       "\n",
       "    .dataframe thead th {\n",
       "        text-align: right;\n",
       "    }\n",
       "</style>\n",
       "<table border=\"1\" class=\"dataframe\">\n",
       "  <thead>\n",
       "    <tr style=\"text-align: right;\">\n",
       "      <th></th>\n",
       "      <th>Lugar</th>\n",
       "      <th>Nº Espacios abiertos</th>\n",
       "    </tr>\n",
       "  </thead>\n",
       "  <tbody>\n",
       "    <tr>\n",
       "      <th>0</th>\n",
       "      <td>Park</td>\n",
       "      <td>199</td>\n",
       "    </tr>\n",
       "    <tr>\n",
       "      <th>1</th>\n",
       "      <td>Fountain</td>\n",
       "      <td>3</td>\n",
       "    </tr>\n",
       "    <tr>\n",
       "      <th>2</th>\n",
       "      <td>Castle</td>\n",
       "      <td>3</td>\n",
       "    </tr>\n",
       "    <tr>\n",
       "      <th>3</th>\n",
       "      <td>Palace</td>\n",
       "      <td>1</td>\n",
       "    </tr>\n",
       "    <tr>\n",
       "      <th>4</th>\n",
       "      <td>Bridge</td>\n",
       "      <td>2</td>\n",
       "    </tr>\n",
       "  </tbody>\n",
       "</table>\n",
       "</div>"
      ],
      "text/plain": [
       "      Lugar  Nº Espacios abiertos\n",
       "0      Park                   199\n",
       "1  Fountain                     3\n",
       "2    Castle                     3\n",
       "3    Palace                     1\n",
       "4    Bridge                     2"
      ]
     },
     "execution_count": 95,
     "metadata": {},
     "output_type": "execute_result"
    }
   ],
   "source": [
    "query4 = \"\"\"\n",
    "SELECT categoria, COUNT(*) AS locales_abiertos\n",
    "FROM lugar\n",
    "WHERE closed_bucket = 'VeryLikelyOpen'\n",
    "GROUP BY categoria;\n",
    "\"\"\"\n",
    "# no hace falta subconsulta, creo\n",
    "cursor.execute(query4)\n",
    "df_query4 = pd.DataFrame(cursor.fetchall(), columns= [\"Lugar\",\"Nº Espacios abiertos\"])\n",
    "df_query4.head(5)"
   ]
  }
 ],
 "metadata": {
  "kernelspec": {
   "display_name": "Python 3",
   "language": "python",
   "name": "python3"
  },
  "language_info": {
   "codemirror_mode": {
    "name": "ipython",
    "version": 3
   },
   "file_extension": ".py",
   "mimetype": "text/x-python",
   "name": "python",
   "nbconvert_exporter": "python",
   "pygments_lexer": "ipython3",
   "version": "3.12.4"
  }
 },
 "nbformat": 4,
 "nbformat_minor": 2
}
