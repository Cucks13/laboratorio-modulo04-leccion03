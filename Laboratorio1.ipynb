{
 "cells": [
  {
   "cell_type": "code",
   "execution_count": 25,
   "metadata": {},
   "outputs": [],
   "source": [
    "# importamos las librerías con las que vamos a trabajar\n",
    "\n",
    "# Trabajar con bases de datos y python\n",
    "# -----------------------------------------------------------------------\n",
    "import psycopg2\n",
    "from psycopg2 import OperationalError, errorcodes, errors\n",
    "\n",
    "\n",
    "# Trabajar con DataFrames\n",
    "# -----------------------------------------------------------------------\n",
    "import pandas as pd"
   ]
  },
  {
   "cell_type": "markdown",
   "metadata": {},
   "source": [
    "OKAY, necesito una bd, pero para ello primero lo debo transformar todo a dataframe"
   ]
  },
  {
   "cell_type": "markdown",
   "metadata": {},
   "source": [
    "##### Convierto a DataFrame los muicipios, y los meto en una lista de tuplas para facilitar la insercción a la base de datos"
   ]
  },
  {
   "cell_type": "code",
   "execution_count": 38,
   "metadata": {},
   "outputs": [
    {
     "name": "stdout",
     "output_type": "stream",
     "text": [
      "codigo_municipio    object\n",
      "longitud            object\n",
      "latitud             object\n",
      "dtype: object\n"
     ]
    }
   ],
   "source": [
    "df_municipios_raw = pd.read_csv(\"data/municipios.csv\", index_col=0)\n",
    "df_municipios = df_municipios_raw.T.reset_index().drop(columns=2)\n",
    "df_municipios.columns = [\"codigo_municipio\",\"longitud\",\"latitud\"]\n",
    "print(df_municipios.dtypes)\n",
    "df_municipios.head(2)\n",
    "df_municipios.to_csv(\"data/datos_municipios_lucas.csv\")"
   ]
  },
  {
   "cell_type": "code",
   "execution_count": 27,
   "metadata": {},
   "outputs": [
    {
     "data": {
      "text/plain": [
       "('acebeda-la', '41.0869583', '-3.624399')"
      ]
     },
     "execution_count": 27,
     "metadata": {},
     "output_type": "execute_result"
    }
   ],
   "source": [
    "lista_tuplas_municipios = []\n",
    "for fila in df_municipios.values:\n",
    "    lista_tuplas_municipios.append(tuple(fila))\n",
    "lista_tuplas_municipios[0]"
   ]
  },
  {
   "cell_type": "markdown",
   "metadata": {},
   "source": [
    "##### Convierto a DataFrame los datos de aemet y los meto en una lista de tuplas para facilitar su insercción a la base de datos"
   ]
  },
  {
   "cell_type": "code",
   "execution_count": 28,
   "metadata": {},
   "outputs": [
    {
     "name": "stdout",
     "output_type": "stream",
     "text": [
      "fecha                     object\n",
      "cielo                     object\n",
      "temp._(°c)                 int64\n",
      "sen._térmica_(°c)          int64\n",
      "racha_máx._(km/h)        float64\n",
      "precipitación_(mm)       float64\n",
      "nieve_(mm)                 int64\n",
      "humedad_relativa_(%)       int64\n",
      "prob._precip.__(%)        object\n",
      "prob._de_nieve_(%)         int64\n",
      "prob._de_tormenta_(%)      int64\n",
      "avisos                    object\n",
      "dirección_viento          object\n",
      "velocidad_del_viento       int64\n",
      "localizacion_id           object\n",
      "dtype: object\n"
     ]
    },
    {
     "data": {
      "text/html": [
       "<div>\n",
       "<style scoped>\n",
       "    .dataframe tbody tr th:only-of-type {\n",
       "        vertical-align: middle;\n",
       "    }\n",
       "\n",
       "    .dataframe tbody tr th {\n",
       "        vertical-align: top;\n",
       "    }\n",
       "\n",
       "    .dataframe thead th {\n",
       "        text-align: right;\n",
       "    }\n",
       "</style>\n",
       "<table border=\"1\" class=\"dataframe\">\n",
       "  <thead>\n",
       "    <tr style=\"text-align: right;\">\n",
       "      <th></th>\n",
       "      <th>fecha</th>\n",
       "      <th>cielo</th>\n",
       "      <th>temp._(°c)</th>\n",
       "      <th>sen._térmica_(°c)</th>\n",
       "      <th>racha_máx._(km/h)</th>\n",
       "      <th>precipitación_(mm)</th>\n",
       "      <th>nieve_(mm)</th>\n",
       "      <th>humedad_relativa_(%)</th>\n",
       "      <th>prob._de_nieve_(%)</th>\n",
       "      <th>prob._de_tormenta_(%)</th>\n",
       "      <th>dirección_viento</th>\n",
       "      <th>velocidad_del_viento</th>\n",
       "      <th>localizacion_id</th>\n",
       "    </tr>\n",
       "  </thead>\n",
       "  <tbody>\n",
       "    <tr>\n",
       "      <th>0</th>\n",
       "      <td>2024-08-29 12:00:00</td>\n",
       "      <td>Nubes altas</td>\n",
       "      <td>21</td>\n",
       "      <td>21</td>\n",
       "      <td>25.0</td>\n",
       "      <td>0.0</td>\n",
       "      <td>0</td>\n",
       "      <td>69</td>\n",
       "      <td>0</td>\n",
       "      <td>75</td>\n",
       "      <td>S</td>\n",
       "      <td>7</td>\n",
       "      <td>acebeda-la-id28001</td>\n",
       "    </tr>\n",
       "  </tbody>\n",
       "</table>\n",
       "</div>"
      ],
      "text/plain": [
       "                 fecha        cielo  temp._(°c)  sen._térmica_(°c)  \\\n",
       "0  2024-08-29 12:00:00  Nubes altas          21                 21   \n",
       "\n",
       "   racha_máx._(km/h)  precipitación_(mm)  nieve_(mm)  humedad_relativa_(%)  \\\n",
       "0               25.0                 0.0           0                    69   \n",
       "\n",
       "   prob._de_nieve_(%)  prob._de_tormenta_(%) dirección_viento  \\\n",
       "0                   0                     75                S   \n",
       "\n",
       "   velocidad_del_viento     localizacion_id  \n",
       "0                     7  acebeda-la-id28001  "
      ]
     },
     "execution_count": 28,
     "metadata": {},
     "output_type": "execute_result"
    }
   ],
   "source": [
    "df_aemet = pd.read_csv(\"data/df_aemet_final.csv\")\n",
    "print(df_aemet.dtypes)\n",
    "# df_aemet.astype({\"fecha\": \"datetime\"})\n",
    "df_aemet.drop(\"avisos\", axis=1, inplace=True)\n",
    "df_aemet.drop(\"prob._precip.__(%)\", axis=1, inplace=True)\n",
    "df_aemet['localizacion_id'] = df_aemet['localizacion_id'].str.replace(r'-\\w{2}\\d{5}', '', regex = True)\n",
    "df_aemet.head(1)"
   ]
  },
  {
   "cell_type": "code",
   "execution_count": 29,
   "metadata": {},
   "outputs": [
    {
     "data": {
      "text/plain": [
       "('2024-08-29 12:00:00',\n",
       " 'Nubes altas',\n",
       " 21,\n",
       " 21,\n",
       " 25.0,\n",
       " 0.0,\n",
       " 0,\n",
       " 69,\n",
       " 0,\n",
       " 75,\n",
       " 'S',\n",
       " 7,\n",
       " 'acebeda-la-id28001')"
      ]
     },
     "execution_count": 29,
     "metadata": {},
     "output_type": "execute_result"
    }
   ],
   "source": [
    "lista_tuplas_aemet = []\n",
    "for fila in df_aemet.values:\n",
    "    lista_tuplas_aemet.append(tuple(fila))\n",
    "lista_tuplas_aemet[0]"
   ]
  },
  {
   "cell_type": "markdown",
   "metadata": {},
   "source": [
    "##### Convierto los datos de foursquare a dataframe y preparo una lista de tuplas para facilitar la inserción en la base de datos"
   ]
  },
  {
   "cell_type": "code",
   "execution_count": 30,
   "metadata": {},
   "outputs": [
    {
     "name": "stdout",
     "output_type": "stream",
     "text": [
      "municipio         object\n",
      "category          object\n",
      "fsq_id            object\n",
      "closed_bucket     object\n",
      "distance         float64\n",
      "link              object\n",
      "name              object\n",
      "address           object\n",
      "latitude         float64\n",
      "longitude        float64\n",
      "dtype: object\n"
     ]
    },
    {
     "data": {
      "text/html": [
       "<div>\n",
       "<style scoped>\n",
       "    .dataframe tbody tr th:only-of-type {\n",
       "        vertical-align: middle;\n",
       "    }\n",
       "\n",
       "    .dataframe tbody tr th {\n",
       "        vertical-align: top;\n",
       "    }\n",
       "\n",
       "    .dataframe thead th {\n",
       "        text-align: right;\n",
       "    }\n",
       "</style>\n",
       "<table border=\"1\" class=\"dataframe\">\n",
       "  <thead>\n",
       "    <tr style=\"text-align: right;\">\n",
       "      <th></th>\n",
       "      <th>municipio</th>\n",
       "      <th>category</th>\n",
       "      <th>fsq_id</th>\n",
       "      <th>closed_bucket</th>\n",
       "      <th>distance</th>\n",
       "      <th>link</th>\n",
       "      <th>name</th>\n",
       "      <th>address</th>\n",
       "      <th>latitude</th>\n",
       "      <th>longitude</th>\n",
       "    </tr>\n",
       "  </thead>\n",
       "  <tbody>\n",
       "    <tr>\n",
       "      <th>0</th>\n",
       "      <td>ajalvir</td>\n",
       "      <td>Park</td>\n",
       "      <td>4d3c6c5b84d46ea87dddfd5c</td>\n",
       "      <td>LikelyOpen</td>\n",
       "      <td>563.0</td>\n",
       "      <td>/v3/places/4d3c6c5b84d46ea87dddfd5c</td>\n",
       "      <td>Diverjungla</td>\n",
       "      <td>Calle Segovia, 20 (Pol. Ind. Donada), 28864 Aj...</td>\n",
       "      <td>40.529921</td>\n",
       "      <td>-3.484341</td>\n",
       "    </tr>\n",
       "    <tr>\n",
       "      <th>1</th>\n",
       "      <td>ajalvir</td>\n",
       "      <td>Park</td>\n",
       "      <td>4f54f7bfe4b036244d02685b</td>\n",
       "      <td>VeryLikelyOpen</td>\n",
       "      <td>1724.0</td>\n",
       "      <td>/v3/places/4f54f7bfe4b036244d02685b</td>\n",
       "      <td>Parque Infantil</td>\n",
       "      <td>NaN</td>\n",
       "      <td>40.543867</td>\n",
       "      <td>-3.464773</td>\n",
       "    </tr>\n",
       "  </tbody>\n",
       "</table>\n",
       "</div>"
      ],
      "text/plain": [
       "  municipio category                    fsq_id   closed_bucket  distance  \\\n",
       "0   ajalvir     Park  4d3c6c5b84d46ea87dddfd5c      LikelyOpen     563.0   \n",
       "1   ajalvir     Park  4f54f7bfe4b036244d02685b  VeryLikelyOpen    1724.0   \n",
       "\n",
       "                                  link             name  \\\n",
       "0  /v3/places/4d3c6c5b84d46ea87dddfd5c      Diverjungla   \n",
       "1  /v3/places/4f54f7bfe4b036244d02685b  Parque Infantil   \n",
       "\n",
       "                                             address   latitude  longitude  \n",
       "0  Calle Segovia, 20 (Pol. Ind. Donada), 28864 Aj...  40.529921  -3.484341  \n",
       "1                                                NaN  40.543867  -3.464773  "
      ]
     },
     "execution_count": 30,
     "metadata": {},
     "output_type": "execute_result"
    }
   ],
   "source": [
    "df_forsquere = pd.read_csv(\"data/api_foursquare.csv\", index_col=0)\n",
    "print(df_forsquere.dtypes)\n",
    "df_forsquere.head(2)"
   ]
  },
  {
   "cell_type": "code",
   "execution_count": 31,
   "metadata": {},
   "outputs": [
    {
     "data": {
      "text/plain": [
       "('ajalvir',\n",
       " 'Park',\n",
       " '4d3c6c5b84d46ea87dddfd5c',\n",
       " 'LikelyOpen',\n",
       " 563.0,\n",
       " '/v3/places/4d3c6c5b84d46ea87dddfd5c',\n",
       " 'Diverjungla',\n",
       " 'Calle Segovia, 20 (Pol. Ind. Donada), 28864 Ajalvir Comunidad de Madrid',\n",
       " 40.529921,\n",
       " -3.484341)"
      ]
     },
     "execution_count": 31,
     "metadata": {},
     "output_type": "execute_result"
    }
   ],
   "source": [
    "listas_tuplas_foursquare = []\n",
    "for fila in df_forsquere.values:\n",
    "    listas_tuplas_foursquare.append(tuple(fila))\n",
    "listas_tuplas_foursquare[0]"
   ]
  },
  {
   "cell_type": "markdown",
   "metadata": {},
   "source": [
    "## Conexión y creacción de tablas"
   ]
  },
  {
   "cell_type": "code",
   "execution_count": 32,
   "metadata": {},
   "outputs": [],
   "source": [
    "try:\n",
    "    conn = psycopg2.connect(\n",
    "        database = \"laboratorio\",\n",
    "        user = \"postgres\",\n",
    "        password = \"admin\",\n",
    "        host = \"localhost\",\n",
    "        port = \"5432\"\n",
    "    )\n",
    "except OperationalError as e:\n",
    "    if e.pgcode == errorcodes.INVALID_PASSWORD:\n",
    "        print(\"contraseña incorrecta\")\n",
    "    elif e.pgcode == errorcodes.CONNECTION_EXCEPTION:\n",
    "        print(\"Error de conexion\")\n",
    "    else:\n",
    "        print(f\"Ocurrio el error {e}\")\n",
    "\n",
    "cursor = conn.cursor()\n",
    "query_creacion = \"\"\"\n",
    "    CREATE TABLE IF NOT EXISTS MUNICIPIOS (\n",
    "    codigo_municipio VARCHAR(100) PRIMARY KEY,\n",
    "    longitud VARCHAR(100),\n",
    "    latitud VARCHAR(100)\n",
    ");\n",
    "\n",
    "CREATE TABLE IF NOT EXISTS AEMET (\n",
    "    fecha VARCHAR(100),\n",
    "    cielo VARCHAR(100),\n",
    "    temp_°C INT,\n",
    "    sen_térmica_°C INT,\n",
    "    racha_máx_km_h DECIMAL,\n",
    "    precipitación_mm DECIMAL,\n",
    "    nieve_mm INT,\n",
    "    humedad_relativa_ INT,\n",
    "    prob_de_nieve_ INT,\n",
    "    prob_de_tormenta_ INT,\n",
    "    dirección_viento VARCHAR(100),\n",
    "    velocidad_del_viento INT,\n",
    "    localizacion_id VARCHAR(100) primary key,\n",
    "    FOREIGN KEY (localizacion_id) REFERENCES MUNICIPIOS(codigo_municipio)\n",
    ");\n",
    "\n",
    "CREATE TABLE IF NOT EXISTS FOURSQUARE (\n",
    "    municipio VARCHAR(100),\n",
    "    category VARCHAR(100),\n",
    "    fsq_id VARCHAR(100) primary key,\n",
    "    closed_bucket VARCHAR(100),\n",
    "    distance DECIMAL(10, 2),\n",
    "    link VARCHAR(100),\n",
    "    name VARCHAR(100),\n",
    "    address VARCHAR(100),\n",
    "    latitude DECIMAL(10, 6),\n",
    "    longitude DECIMAL(10, 6),\n",
    "    FOREIGN KEY (municipio) REFERENCES MUNICIPIOS(codigo_municipio)\n",
    ");\n",
    "\"\"\"\n",
    "\n",
    "\n",
    "cursor.execute(query_creacion)\n",
    "conn.commit()"
   ]
  },
  {
   "cell_type": "code",
   "execution_count": 33,
   "metadata": {},
   "outputs": [],
   "source": [
    "query12 = \"\"\"\n",
    "drop table AEMET\n",
    "\"\"\"\n",
    "cursor.execute(query12)\n",
    "conn.commit()"
   ]
  },
  {
   "cell_type": "code",
   "execution_count": 34,
   "metadata": {},
   "outputs": [
    {
     "data": {
      "text/html": [
       "<div>\n",
       "<style scoped>\n",
       "    .dataframe tbody tr th:only-of-type {\n",
       "        vertical-align: middle;\n",
       "    }\n",
       "\n",
       "    .dataframe tbody tr th {\n",
       "        vertical-align: top;\n",
       "    }\n",
       "\n",
       "    .dataframe thead th {\n",
       "        text-align: right;\n",
       "    }\n",
       "</style>\n",
       "<table border=\"1\" class=\"dataframe\">\n",
       "  <thead>\n",
       "    <tr style=\"text-align: right;\">\n",
       "      <th></th>\n",
       "      <th>codigo_municipio</th>\n",
       "      <th>longitud</th>\n",
       "      <th>latitud</th>\n",
       "    </tr>\n",
       "  </thead>\n",
       "  <tbody>\n",
       "    <tr>\n",
       "      <th>0</th>\n",
       "      <td>acebeda-la</td>\n",
       "      <td>41.0869583</td>\n",
       "      <td>-3.624399</td>\n",
       "    </tr>\n",
       "    <tr>\n",
       "      <th>1</th>\n",
       "      <td>ajalvir</td>\n",
       "      <td>40.5342302</td>\n",
       "      <td>-3.4807818</td>\n",
       "    </tr>\n",
       "    <tr>\n",
       "      <th>2</th>\n",
       "      <td>alameda-del-valle</td>\n",
       "      <td>40.9177178</td>\n",
       "      <td>-3.8438216</td>\n",
       "    </tr>\n",
       "    <tr>\n",
       "      <th>3</th>\n",
       "      <td>alamo-el</td>\n",
       "      <td>40.2307296</td>\n",
       "      <td>-3.9905893</td>\n",
       "    </tr>\n",
       "    <tr>\n",
       "      <th>4</th>\n",
       "      <td>alcala-de-henares</td>\n",
       "      <td>40.4818396</td>\n",
       "      <td>-3.3644973</td>\n",
       "    </tr>\n",
       "    <tr>\n",
       "      <th>...</th>\n",
       "      <td>...</td>\n",
       "      <td>...</td>\n",
       "      <td>...</td>\n",
       "    </tr>\n",
       "    <tr>\n",
       "      <th>171</th>\n",
       "      <td>villar-del-olmo</td>\n",
       "      <td>40.3364465</td>\n",
       "      <td>-3.2355624</td>\n",
       "    </tr>\n",
       "    <tr>\n",
       "      <th>172</th>\n",
       "      <td>villarejo-de-salvanes</td>\n",
       "      <td>40.1683582</td>\n",
       "      <td>-3.2738764</td>\n",
       "    </tr>\n",
       "    <tr>\n",
       "      <th>173</th>\n",
       "      <td>villaviciosa-de-odon</td>\n",
       "      <td>40.3573787</td>\n",
       "      <td>-3.9002334</td>\n",
       "    </tr>\n",
       "    <tr>\n",
       "      <th>174</th>\n",
       "      <td>villavieja-del-lozoya</td>\n",
       "      <td>41.0063622</td>\n",
       "      <td>-3.6716291</td>\n",
       "    </tr>\n",
       "    <tr>\n",
       "      <th>175</th>\n",
       "      <td>zarzalejo</td>\n",
       "      <td>40.5483016</td>\n",
       "      <td>-4.1815899</td>\n",
       "    </tr>\n",
       "  </tbody>\n",
       "</table>\n",
       "<p>176 rows × 3 columns</p>\n",
       "</div>"
      ],
      "text/plain": [
       "          codigo_municipio    longitud     latitud\n",
       "0               acebeda-la  41.0869583   -3.624399\n",
       "1                  ajalvir  40.5342302  -3.4807818\n",
       "2        alameda-del-valle  40.9177178  -3.8438216\n",
       "3                 alamo-el  40.2307296  -3.9905893\n",
       "4        alcala-de-henares  40.4818396  -3.3644973\n",
       "..                     ...         ...         ...\n",
       "171        villar-del-olmo  40.3364465  -3.2355624\n",
       "172  villarejo-de-salvanes  40.1683582  -3.2738764\n",
       "173   villaviciosa-de-odon  40.3573787  -3.9002334\n",
       "174  villavieja-del-lozoya  41.0063622  -3.6716291\n",
       "175              zarzalejo  40.5483016  -4.1815899\n",
       "\n",
       "[176 rows x 3 columns]"
      ]
     },
     "execution_count": 34,
     "metadata": {},
     "output_type": "execute_result"
    }
   ],
   "source": [
    "df_municipios"
   ]
  },
  {
   "cell_type": "markdown",
   "metadata": {},
   "source": [
    "## INSERCCION DE DATOS"
   ]
  },
  {
   "cell_type": "markdown",
   "metadata": {},
   "source": [
    "##### Insercion de los datos df_municipios into la tabla municipio de mi base de datos"
   ]
  },
  {
   "cell_type": "code",
   "execution_count": 35,
   "metadata": {},
   "outputs": [],
   "source": [
    "# query_inserción = 'insert into municipios (codigo_municipio, longitud, latitud) values (%s, %s, %s)'\n",
    "# cursor.executemany(query_inserción, lista_tuplas_municipios)\n",
    "# conn.commit()"
   ]
  },
  {
   "cell_type": "markdown",
   "metadata": {},
   "source": [
    "##### Insercion de los datos de df_aemet en la tabla AEMET de mi base de datos"
   ]
  },
  {
   "cell_type": "code",
   "execution_count": 36,
   "metadata": {},
   "outputs": [
    {
     "data": {
      "text/plain": [
       "fecha                     object\n",
       "cielo                     object\n",
       "temp._(°c)                 int64\n",
       "sen._térmica_(°c)          int64\n",
       "racha_máx._(km/h)        float64\n",
       "precipitación_(mm)       float64\n",
       "nieve_(mm)                 int64\n",
       "humedad_relativa_(%)       int64\n",
       "prob._de_nieve_(%)         int64\n",
       "prob._de_tormenta_(%)      int64\n",
       "dirección_viento          object\n",
       "velocidad_del_viento       int64\n",
       "localizacion_id           object\n",
       "dtype: object"
      ]
     },
     "execution_count": 36,
     "metadata": {},
     "output_type": "execute_result"
    }
   ],
   "source": [
    "df_aemet.dtypes"
   ]
  },
  {
   "cell_type": "code",
   "execution_count": 39,
   "metadata": {},
   "outputs": [
    {
     "ename": "InFailedSqlTransaction",
     "evalue": "transacción abortada, las órdenes serán ignoradas hasta el fin de bloque de transacción\n",
     "output_type": "error",
     "traceback": [
      "\u001b[1;31m---------------------------------------------------------------------------\u001b[0m",
      "\u001b[1;31mInFailedSqlTransaction\u001b[0m                    Traceback (most recent call last)",
      "Cell \u001b[1;32mIn[39], line 2\u001b[0m\n\u001b[0;32m      1\u001b[0m query_inserción \u001b[38;5;241m=\u001b[39m \u001b[38;5;124m'\u001b[39m\u001b[38;5;124minsert into AEMET (fecha, cielo, temp_°C, sen_térmica_°C, racha_máx_km_h, precipitación_mm, nieve_mm, humedad_relativa_, prob_de_nieve_, prob_de_tormenta_, dirección_viento, velocidad_del_viento, localizacion_id) values (\u001b[39m\u001b[38;5;132;01m%s\u001b[39;00m\u001b[38;5;124m, \u001b[39m\u001b[38;5;132;01m%s\u001b[39;00m\u001b[38;5;124m, \u001b[39m\u001b[38;5;132;01m%s\u001b[39;00m\u001b[38;5;124m, \u001b[39m\u001b[38;5;132;01m%s\u001b[39;00m\u001b[38;5;124m, \u001b[39m\u001b[38;5;132;01m%s\u001b[39;00m\u001b[38;5;124m, \u001b[39m\u001b[38;5;132;01m%s\u001b[39;00m\u001b[38;5;124m, \u001b[39m\u001b[38;5;132;01m%s\u001b[39;00m\u001b[38;5;124m, \u001b[39m\u001b[38;5;132;01m%s\u001b[39;00m\u001b[38;5;124m, \u001b[39m\u001b[38;5;132;01m%s\u001b[39;00m\u001b[38;5;124m, \u001b[39m\u001b[38;5;132;01m%s\u001b[39;00m\u001b[38;5;124m, \u001b[39m\u001b[38;5;132;01m%s\u001b[39;00m\u001b[38;5;124m, \u001b[39m\u001b[38;5;132;01m%s\u001b[39;00m\u001b[38;5;124m, \u001b[39m\u001b[38;5;132;01m%s\u001b[39;00m\u001b[38;5;124m)\u001b[39m\u001b[38;5;124m'\u001b[39m\n\u001b[1;32m----> 2\u001b[0m \u001b[43mcursor\u001b[49m\u001b[38;5;241;43m.\u001b[39;49m\u001b[43mexecutemany\u001b[49m\u001b[43m(\u001b[49m\u001b[43mquery_inserción\u001b[49m\u001b[43m,\u001b[49m\u001b[43m \u001b[49m\u001b[43mlista_tuplas_aemet\u001b[49m\u001b[43m)\u001b[49m\n\u001b[0;32m      3\u001b[0m conn\u001b[38;5;241m.\u001b[39mcommit()\n",
      "\u001b[1;31mInFailedSqlTransaction\u001b[0m: transacción abortada, las órdenes serán ignoradas hasta el fin de bloque de transacción\n"
     ]
    }
   ],
   "source": [
    "query_inserción = 'insert into AEMET (fecha, cielo, temp_°C, sen_térmica_°C, racha_máx_km_h, precipitación_mm, nieve_mm, humedad_relativa_, prob_de_nieve_, prob_de_tormenta_, dirección_viento, velocidad_del_viento, localizacion_id) values (%s, %s, %s, %s, %s, %s, %s, %s, %s, %s, %s, %s, %s)'\n",
    "cursor.executemany(query_inserción, lista_tuplas_aemet)\n",
    "conn.commit()"
   ]
  },
  {
   "cell_type": "code",
   "execution_count": null,
   "metadata": {},
   "outputs": [
    {
     "ename": "InFailedSqlTransaction",
     "evalue": "transacción abortada, las órdenes serán ignoradas hasta el fin de bloque de transacción\n",
     "output_type": "error",
     "traceback": [
      "\u001b[1;31m---------------------------------------------------------------------------\u001b[0m",
      "\u001b[1;31mInFailedSqlTransaction\u001b[0m                    Traceback (most recent call last)",
      "Cell \u001b[1;32mIn[152], line 2\u001b[0m\n\u001b[0;32m      1\u001b[0m query_inserción \u001b[38;5;241m=\u001b[39m \u001b[38;5;124m'\u001b[39m\u001b[38;5;124minsert into FOURSQUARE (municipio, category, fsq_id, closed_bucket, distance, link, name, address, latitude, longitude) values (\u001b[39m\u001b[38;5;132;01m%s\u001b[39;00m\u001b[38;5;124m, \u001b[39m\u001b[38;5;132;01m%s\u001b[39;00m\u001b[38;5;124m, \u001b[39m\u001b[38;5;132;01m%s\u001b[39;00m\u001b[38;5;124m, \u001b[39m\u001b[38;5;132;01m%s\u001b[39;00m\u001b[38;5;124m, \u001b[39m\u001b[38;5;132;01m%s\u001b[39;00m\u001b[38;5;124m, \u001b[39m\u001b[38;5;132;01m%s\u001b[39;00m\u001b[38;5;124m, \u001b[39m\u001b[38;5;132;01m%s\u001b[39;00m\u001b[38;5;124m, \u001b[39m\u001b[38;5;132;01m%s\u001b[39;00m\u001b[38;5;124m, \u001b[39m\u001b[38;5;132;01m%s\u001b[39;00m\u001b[38;5;124m, \u001b[39m\u001b[38;5;132;01m%s\u001b[39;00m\u001b[38;5;124m)\u001b[39m\u001b[38;5;124m'\u001b[39m\n\u001b[1;32m----> 2\u001b[0m \u001b[43mcursor\u001b[49m\u001b[38;5;241;43m.\u001b[39;49m\u001b[43mexecutemany\u001b[49m\u001b[43m(\u001b[49m\u001b[43mquery_inserción\u001b[49m\u001b[43m,\u001b[49m\u001b[43m \u001b[49m\u001b[43mlistas_tuplas_foursquare\u001b[49m\u001b[43m)\u001b[49m\n\u001b[0;32m      3\u001b[0m conn\u001b[38;5;241m.\u001b[39mcommit()\n",
      "\u001b[1;31mInFailedSqlTransaction\u001b[0m: transacción abortada, las órdenes serán ignoradas hasta el fin de bloque de transacción\n"
     ]
    }
   ],
   "source": [
    "query_inserción = 'insert into FOURSQUARE (municipio, category, fsq_id, closed_bucket, distance, link, name, address, latitude, longitude) values (%s, %s, %s, %s, %s, %s, %s, %s, %s, %s)'\n",
    "cursor.executemany(query_inserción, listas_tuplas_foursquare)\n",
    "conn.commit()"
   ]
  },
  {
   "cell_type": "code",
   "execution_count": null,
   "metadata": {},
   "outputs": [],
   "source": [
    "    municipio VARCHAR(100),\n",
    "    category VARCHAR(100),\n",
    "    fsq_id VARCHAR(100) primary key,\n",
    "    closed_bucket VARCHAR(100),\n",
    "    distance DECIMAL(10, 2),\n",
    "    link VARCHAR(100),\n",
    "    name VARCHAR(100),\n",
    "    address VARCHAR(100),\n",
    "    latitude DECIMAL(10, 6),\n",
    "    longitude DECIMAL(10, 6),\n",
    "    FOREIGN KEY (municipio) REFERENCES MUNICIPIOS(codigo_municipio)"
   ]
  }
 ],
 "metadata": {
  "kernelspec": {
   "display_name": "Python 3",
   "language": "python",
   "name": "python3"
  },
  "language_info": {
   "codemirror_mode": {
    "name": "ipython",
    "version": 3
   },
   "file_extension": ".py",
   "mimetype": "text/x-python",
   "name": "python",
   "nbconvert_exporter": "python",
   "pygments_lexer": "ipython3",
   "version": "3.12.4"
  }
 },
 "nbformat": 4,
 "nbformat_minor": 2
}
